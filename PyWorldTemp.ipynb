{
 "cells": [
  {
   "cell_type": "markdown",
   "id": "6e4f1e97",
   "metadata": {},
   "source": [
    "# Programming with Python\n",
    "# Master DSE - 01 2022\n",
    "## PyWorldTemp\n",
    "\n",
    "### Steps\n",
    "- Import Class & Libraries\n",
    "- Load - Check - Adjust - Clean the dataset\n",
    "- Statistics\n",
    "- Visualization with GEOPANDAS\n"
   ]
  },
  {
   "cell_type": "markdown",
   "id": "f63dad03",
   "metadata": {},
   "source": [
    "### Import Class & Libraries"
   ]
  },
  {
   "cell_type": "code",
   "execution_count": 1,
   "id": "c0d83f5d",
   "metadata": {
    "ExecuteTime": {
     "end_time": "2022-02-10T16:55:40.000826Z",
     "start_time": "2022-02-10T16:55:39.634429Z"
    }
   },
   "outputs": [],
   "source": [
    "import pandas as pd\n",
    "import numpy as np\n",
    "import matplotlib.pyplot as plt"
   ]
  },
  {
   "cell_type": "markdown",
   "id": "87958499",
   "metadata": {},
   "source": [
    "### Load - Check - Adjust - Clean the dataset"
   ]
  },
  {
   "cell_type": "code",
   "execution_count": 2,
   "id": "461bb5af",
   "metadata": {
    "ExecuteTime": {
     "end_time": "2022-02-10T16:55:46.823145Z",
     "start_time": "2022-02-10T16:55:41.734471Z"
    }
   },
   "outputs": [],
   "source": [
    "# LOAD dataset\n",
    "file = './Dataset_archive/GlobalLandTemperaturesByCity.csv'\n",
    "glob_temp = pd.read_csv(file)"
   ]
  },
  {
   "cell_type": "code",
   "execution_count": 3,
   "id": "827399e9",
   "metadata": {
    "ExecuteTime": {
     "end_time": "2022-02-10T16:55:48.297521Z",
     "start_time": "2022-02-10T16:55:48.283032Z"
    }
   },
   "outputs": [
    {
     "name": "stdout",
     "output_type": "stream",
     "text": [
      "<class 'pandas.core.frame.DataFrame'>\n",
      "RangeIndex: 8599212 entries, 0 to 8599211\n",
      "Data columns (total 7 columns):\n",
      " #   Column                         Dtype  \n",
      "---  ------                         -----  \n",
      " 0   dt                             object \n",
      " 1   AverageTemperature             float64\n",
      " 2   AverageTemperatureUncertainty  float64\n",
      " 3   City                           object \n",
      " 4   Country                        object \n",
      " 5   Latitude                       object \n",
      " 6   Longitude                      object \n",
      "dtypes: float64(2), object(5)\n",
      "memory usage: 459.2+ MB\n"
     ]
    }
   ],
   "source": [
    "# CHECK\n",
    "glob_temp.info()"
   ]
  },
  {
   "cell_type": "code",
   "execution_count": 4,
   "id": "4ecf46d5",
   "metadata": {
    "ExecuteTime": {
     "end_time": "2022-02-10T16:55:52.624546Z",
     "start_time": "2022-02-10T16:55:51.251455Z"
    }
   },
   "outputs": [
    {
     "data": {
      "text/plain": [
       "dt                                    0\n",
       "AverageTemperature               364130\n",
       "AverageTemperatureUncertainty    364130\n",
       "City                                  0\n",
       "Country                               0\n",
       "Latitude                              0\n",
       "Longitude                             0\n",
       "dtype: int64"
      ]
     },
     "execution_count": 4,
     "metadata": {},
     "output_type": "execute_result"
    }
   ],
   "source": [
    "# Look for a NaN values in the dataset\n",
    "glob_temp.isnull().sum()"
   ]
  },
  {
   "cell_type": "code",
   "execution_count": 5,
   "id": "ce765776",
   "metadata": {
    "ExecuteTime": {
     "end_time": "2022-02-10T16:55:56.391736Z",
     "start_time": "2022-02-10T16:55:54.600516Z"
    }
   },
   "outputs": [
    {
     "data": {
      "text/plain": [
       "(8235082, 7)"
      ]
     },
     "execution_count": 5,
     "metadata": {},
     "output_type": "execute_result"
    }
   ],
   "source": [
    "#Remove records where NaN value is present\n",
    "df = glob_temp.dropna()\n",
    "df.shape"
   ]
  },
  {
   "cell_type": "code",
   "execution_count": 6,
   "id": "2ca4c491",
   "metadata": {
    "ExecuteTime": {
     "end_time": "2022-02-10T16:55:58.537837Z",
     "start_time": "2022-02-10T16:55:58.517866Z"
    }
   },
   "outputs": [
    {
     "data": {
      "text/html": [
       "<div>\n",
       "<style scoped>\n",
       "    .dataframe tbody tr th:only-of-type {\n",
       "        vertical-align: middle;\n",
       "    }\n",
       "\n",
       "    .dataframe tbody tr th {\n",
       "        vertical-align: top;\n",
       "    }\n",
       "\n",
       "    .dataframe thead th {\n",
       "        text-align: right;\n",
       "    }\n",
       "</style>\n",
       "<table border=\"1\" class=\"dataframe\">\n",
       "  <thead>\n",
       "    <tr style=\"text-align: right;\">\n",
       "      <th></th>\n",
       "      <th>dt</th>\n",
       "      <th>AverageTemperature</th>\n",
       "      <th>AverageTemperatureUncertainty</th>\n",
       "      <th>City</th>\n",
       "      <th>Country</th>\n",
       "      <th>Latitude</th>\n",
       "      <th>Longitude</th>\n",
       "    </tr>\n",
       "  </thead>\n",
       "  <tbody>\n",
       "    <tr>\n",
       "      <th>0</th>\n",
       "      <td>1743-11-01</td>\n",
       "      <td>6.068</td>\n",
       "      <td>1.737</td>\n",
       "      <td>Århus</td>\n",
       "      <td>Denmark</td>\n",
       "      <td>57.05N</td>\n",
       "      <td>10.33E</td>\n",
       "    </tr>\n",
       "    <tr>\n",
       "      <th>5</th>\n",
       "      <td>1744-04-01</td>\n",
       "      <td>5.788</td>\n",
       "      <td>3.624</td>\n",
       "      <td>Århus</td>\n",
       "      <td>Denmark</td>\n",
       "      <td>57.05N</td>\n",
       "      <td>10.33E</td>\n",
       "    </tr>\n",
       "    <tr>\n",
       "      <th>6</th>\n",
       "      <td>1744-05-01</td>\n",
       "      <td>10.644</td>\n",
       "      <td>1.283</td>\n",
       "      <td>Århus</td>\n",
       "      <td>Denmark</td>\n",
       "      <td>57.05N</td>\n",
       "      <td>10.33E</td>\n",
       "    </tr>\n",
       "  </tbody>\n",
       "</table>\n",
       "</div>"
      ],
      "text/plain": [
       "           dt  AverageTemperature  AverageTemperatureUncertainty   City  \\\n",
       "0  1743-11-01               6.068                          1.737  Århus   \n",
       "5  1744-04-01               5.788                          3.624  Århus   \n",
       "6  1744-05-01              10.644                          1.283  Århus   \n",
       "\n",
       "   Country Latitude Longitude  \n",
       "0  Denmark   57.05N    10.33E  \n",
       "5  Denmark   57.05N    10.33E  \n",
       "6  Denmark   57.05N    10.33E  "
      ]
     },
     "execution_count": 6,
     "metadata": {},
     "output_type": "execute_result"
    }
   ],
   "source": [
    "#look head and tail\n",
    "df.head(3)"
   ]
  },
  {
   "cell_type": "code",
   "execution_count": 7,
   "id": "fff527ca",
   "metadata": {
    "ExecuteTime": {
     "end_time": "2022-02-10T16:55:59.651315Z",
     "start_time": "2022-02-10T16:55:59.633657Z"
    }
   },
   "outputs": [
    {
     "data": {
      "text/html": [
       "<div>\n",
       "<style scoped>\n",
       "    .dataframe tbody tr th:only-of-type {\n",
       "        vertical-align: middle;\n",
       "    }\n",
       "\n",
       "    .dataframe tbody tr th {\n",
       "        vertical-align: top;\n",
       "    }\n",
       "\n",
       "    .dataframe thead th {\n",
       "        text-align: right;\n",
       "    }\n",
       "</style>\n",
       "<table border=\"1\" class=\"dataframe\">\n",
       "  <thead>\n",
       "    <tr style=\"text-align: right;\">\n",
       "      <th></th>\n",
       "      <th>dt</th>\n",
       "      <th>AverageTemperature</th>\n",
       "      <th>AverageTemperatureUncertainty</th>\n",
       "      <th>City</th>\n",
       "      <th>Country</th>\n",
       "      <th>Latitude</th>\n",
       "      <th>Longitude</th>\n",
       "    </tr>\n",
       "  </thead>\n",
       "  <tbody>\n",
       "    <tr>\n",
       "      <th>8599208</th>\n",
       "      <td>2013-06-01</td>\n",
       "      <td>15.043</td>\n",
       "      <td>0.261</td>\n",
       "      <td>Zwolle</td>\n",
       "      <td>Netherlands</td>\n",
       "      <td>52.24N</td>\n",
       "      <td>5.26E</td>\n",
       "    </tr>\n",
       "    <tr>\n",
       "      <th>8599209</th>\n",
       "      <td>2013-07-01</td>\n",
       "      <td>18.775</td>\n",
       "      <td>0.193</td>\n",
       "      <td>Zwolle</td>\n",
       "      <td>Netherlands</td>\n",
       "      <td>52.24N</td>\n",
       "      <td>5.26E</td>\n",
       "    </tr>\n",
       "    <tr>\n",
       "      <th>8599210</th>\n",
       "      <td>2013-08-01</td>\n",
       "      <td>18.025</td>\n",
       "      <td>0.298</td>\n",
       "      <td>Zwolle</td>\n",
       "      <td>Netherlands</td>\n",
       "      <td>52.24N</td>\n",
       "      <td>5.26E</td>\n",
       "    </tr>\n",
       "  </tbody>\n",
       "</table>\n",
       "</div>"
      ],
      "text/plain": [
       "                 dt  AverageTemperature  AverageTemperatureUncertainty  \\\n",
       "8599208  2013-06-01              15.043                          0.261   \n",
       "8599209  2013-07-01              18.775                          0.193   \n",
       "8599210  2013-08-01              18.025                          0.298   \n",
       "\n",
       "           City      Country Latitude Longitude  \n",
       "8599208  Zwolle  Netherlands   52.24N     5.26E  \n",
       "8599209  Zwolle  Netherlands   52.24N     5.26E  \n",
       "8599210  Zwolle  Netherlands   52.24N     5.26E  "
      ]
     },
     "execution_count": 7,
     "metadata": {},
     "output_type": "execute_result"
    }
   ],
   "source": [
    "df.tail(3)"
   ]
  },
  {
   "cell_type": "code",
   "execution_count": 8,
   "id": "4784f6c1",
   "metadata": {
    "ExecuteTime": {
     "end_time": "2022-02-10T16:56:07.947728Z",
     "start_time": "2022-02-10T16:56:02.815088Z"
    }
   },
   "outputs": [
    {
     "name": "stderr",
     "output_type": "stream",
     "text": [
      "<ipython-input-8-48ef81e67f35>:5: FutureWarning: Slicing a positional slice with .loc is not supported, and will raise TypeError in a future version.  Use .loc with labels or .iloc with positions instead.\n",
      "  df.loc[:,:1] = pd.to_numeric(df.dt.str.replace('-',''))\n",
      "/Users/pmarincola/opt/anaconda3/lib/python3.8/site-packages/pandas/core/indexing.py:1676: SettingWithCopyWarning: \n",
      "A value is trying to be set on a copy of a slice from a DataFrame.\n",
      "Try using .loc[row_indexer,col_indexer] = value instead\n",
      "\n",
      "See the caveats in the documentation: https://pandas.pydata.org/pandas-docs/stable/user_guide/indexing.html#returning-a-view-versus-a-copy\n",
      "  self._setitem_single_column(ilocs[0], value, pi)\n"
     ]
    }
   ],
   "source": [
    "# ADJUST\n",
    "#Conversion column 'dt' values for future analysis and time series\n",
    "# remove hyphens \"-\" in dates\n",
    "# convert dates values to int type\n",
    "df.loc[:,:1] = pd.to_numeric(df.dt.str.replace('-',''))"
   ]
  },
  {
   "cell_type": "code",
   "execution_count": 9,
   "id": "8a92bc7b",
   "metadata": {
    "ExecuteTime": {
     "end_time": "2022-02-10T16:56:10.525944Z",
     "start_time": "2022-02-10T16:56:10.447842Z"
    }
   },
   "outputs": [
    {
     "name": "stderr",
     "output_type": "stream",
     "text": [
      "/Users/pmarincola/opt/anaconda3/lib/python3.8/site-packages/pandas/core/indexing.py:1676: SettingWithCopyWarning: \n",
      "A value is trying to be set on a copy of a slice from a DataFrame.\n",
      "Try using .loc[row_indexer,col_indexer] = value instead\n",
      "\n",
      "See the caveats in the documentation: https://pandas.pydata.org/pandas-docs/stable/user_guide/indexing.html#returning-a-view-versus-a-copy\n",
      "  self._setitem_single_column(ilocs[0], value, pi)\n"
     ]
    }
   ],
   "source": [
    "# divide for 10000 to truncate the last 4 digits in order to obtain only year value\n",
    "df.loc[:,'dt'] = df.dt.floordiv(10000)"
   ]
  },
  {
   "cell_type": "code",
   "execution_count": 10,
   "id": "326eacbc",
   "metadata": {
    "ExecuteTime": {
     "end_time": "2022-02-10T16:56:15.366456Z",
     "start_time": "2022-02-10T16:56:15.349239Z"
    }
   },
   "outputs": [
    {
     "data": {
      "text/html": [
       "<div>\n",
       "<style scoped>\n",
       "    .dataframe tbody tr th:only-of-type {\n",
       "        vertical-align: middle;\n",
       "    }\n",
       "\n",
       "    .dataframe tbody tr th {\n",
       "        vertical-align: top;\n",
       "    }\n",
       "\n",
       "    .dataframe thead th {\n",
       "        text-align: right;\n",
       "    }\n",
       "</style>\n",
       "<table border=\"1\" class=\"dataframe\">\n",
       "  <thead>\n",
       "    <tr style=\"text-align: right;\">\n",
       "      <th></th>\n",
       "      <th>dt</th>\n",
       "      <th>AverageTemperature</th>\n",
       "      <th>AverageTemperatureUncertainty</th>\n",
       "      <th>City</th>\n",
       "      <th>Country</th>\n",
       "      <th>Latitude</th>\n",
       "      <th>Longitude</th>\n",
       "    </tr>\n",
       "  </thead>\n",
       "  <tbody>\n",
       "    <tr>\n",
       "      <th>0</th>\n",
       "      <td>1743</td>\n",
       "      <td>6.068</td>\n",
       "      <td>1.737</td>\n",
       "      <td>Århus</td>\n",
       "      <td>Denmark</td>\n",
       "      <td>57.05N</td>\n",
       "      <td>10.33E</td>\n",
       "    </tr>\n",
       "    <tr>\n",
       "      <th>5</th>\n",
       "      <td>1744</td>\n",
       "      <td>5.788</td>\n",
       "      <td>3.624</td>\n",
       "      <td>Århus</td>\n",
       "      <td>Denmark</td>\n",
       "      <td>57.05N</td>\n",
       "      <td>10.33E</td>\n",
       "    </tr>\n",
       "    <tr>\n",
       "      <th>6</th>\n",
       "      <td>1744</td>\n",
       "      <td>10.644</td>\n",
       "      <td>1.283</td>\n",
       "      <td>Århus</td>\n",
       "      <td>Denmark</td>\n",
       "      <td>57.05N</td>\n",
       "      <td>10.33E</td>\n",
       "    </tr>\n",
       "  </tbody>\n",
       "</table>\n",
       "</div>"
      ],
      "text/plain": [
       "     dt  AverageTemperature  AverageTemperatureUncertainty   City  Country  \\\n",
       "0  1743               6.068                          1.737  Århus  Denmark   \n",
       "5  1744               5.788                          3.624  Århus  Denmark   \n",
       "6  1744              10.644                          1.283  Århus  Denmark   \n",
       "\n",
       "  Latitude Longitude  \n",
       "0   57.05N    10.33E  \n",
       "5   57.05N    10.33E  \n",
       "6   57.05N    10.33E  "
      ]
     },
     "execution_count": 10,
     "metadata": {},
     "output_type": "execute_result"
    }
   ],
   "source": [
    "#verify new date format\n",
    "df.head(3)"
   ]
  },
  {
   "cell_type": "code",
   "execution_count": 11,
   "id": "7e3cb78d",
   "metadata": {
    "ExecuteTime": {
     "end_time": "2022-02-10T16:56:17.404949Z",
     "start_time": "2022-02-10T16:56:16.716305Z"
    }
   },
   "outputs": [
    {
     "data": {
      "image/png": "[encoded data removed]",
      "text/plain": [
       "<Figure size 720x360 with 4 Axes>"
      ]
     },
     "metadata": {
      "needs_background": "light"
     },
     "output_type": "display_data"
    }
   ],
   "source": [
    "#Look for the numerical data in the dataset\n",
    "df.hist(bins=50,figsize=(10,5))\n",
    "plt.show()"
   ]
  },
  {
   "cell_type": "code",
   "execution_count": 12,
   "id": "e7e46fa2",
   "metadata": {
    "ExecuteTime": {
     "end_time": "2022-02-10T16:56:20.432186Z",
     "start_time": "2022-02-10T16:56:20.283722Z"
    }
   },
   "outputs": [],
   "source": [
    "# Create list of City name values\n",
    "#ALT: uniqueCity = df['City'].unique()\n",
    "cities_name_list = set(df.City.values)"
   ]
  },
  {
   "cell_type": "code",
   "execution_count": 13,
   "id": "237c39c5",
   "metadata": {
    "ExecuteTime": {
     "end_time": "2022-02-10T16:56:22.880973Z",
     "start_time": "2022-02-10T16:56:22.549599Z"
    }
   },
   "outputs": [
    {
     "name": "stdout",
     "output_type": "stream",
     "text": [
      "A Coruña,Aachen,Aalborg,Aba,Abadan,Abakaliki,Abakan,Abbotsford,Abengourou,Abeokuta,Aberdeen,Abha,Abidjan,Abiko,Abilene,Abohar,Abomey Calavi,Abu Dhabi,Abuja,Acapulco,Acarigua,Accra,Achalpur,Acheng,Achinsk,Acuña,Adana,Addis Abeba,Adelaide,Aden,Adilabad,Adiwerna,Adoni,Afyonkarahisar,Agadir,Agartala,Agboville,Ageo,Agra,Aguascalientes,Ahmadabad,Ahmadnagar,Ahmadpur East,Ahvaz,Aix En Provence,Aizawl,Ajdabiya,Ajmer,Akashi,Akishima,Akita,Akola,Akron,Aksaray,Aksu,Aktau,Akure,Akyab,Alagoinhas,Alandur,Alanya,Alappuzha,Albacete,Alberton,Albuquerque,Albury,Alcalá De Henares,Alcobendas,Alcorcón,Aleppo,Alexandria,Algeciras,Algiers,Aligarh,Allahabad,Allentown,Almaty,Almere,Almería,Almetyevsk,Alor Setar,Altay,Alwar,Amadora,Amagasaki,Amaigbo,Amarillo,Ambala,Ambarnath,Ambato,Ambattur,Ambon,Ambur,Americana,Amersfoort,Amiens,Amol,Amravati,Amritsar,Amroha,Amsterdam,Anaco,Anaheim,Anand,Ananindeua,Anantapur,Anbu,Anchorage,Ancona,Anda,Andijon,Angarsk,Angeles,Angers,Angra Dos Reis,Angren,Anjo,Ankang,Ankara,Ann Arbor,Anqing,Anqiu,Anshan,Anshun,Antakya,Antalya,Antananarivo,Antioch,Antipolo,Antofagasta,Antsirabe,Antwerp,Anyama,Anyang,Anápolis,Apeldoorn,Apodaca,Apopa,Apucarana,Aqtöbe,Ara,Aracaju,Arad,Araguaína,Arak,Arapiraca,Araraquara,Araras,Araruama,Araucária,Araçatuba,Ardabil,Arequipa,Arica,Arjawinangun,Arkhangelsk,Arlington,Armavir,Armenia,Arnhem,Arusha,Arvada,Aryanah,Arzamas,Asahikawa,Asaka,Asansol,Asfi,Asgabat,Ashdod,Ashikaga,Ashqelon,Asmara,Astana,Astanajapura,Astrakhan,Asunción,Aswan,Asyut,Athens,Atibaia,Atlanta,Atsugi,Atyrau,Auckland,Augsburg,Aurangabad,Aurora,Austin,Avadi,Awassa,Awka,Ayacucho,Ayer Itam,Azamgarh,Azare,Babakan,Babol,Bac Lieu,Bacau,Bacolod,Bacoor,Badajoz,Badalona,Badaojiang,Badlapur,Bafoussam,Bagaha,Baghdad,Baglan,Bago,Baguio,Bahadurgarh,Baharampur,Bahawalnagar,Bahawalpur,Bahia Blanca,Bahir Dar,Bahraich,Baia Mare,Baicheng,Baidyabati,Baiyin,Bakersfield,Baku,Balakovo,Balashikha,Baleshwar,Balikpapan,Baliuag,Ballia,Bally,Balti,Baltimore,Balurghat,Bama,Bamako,Bamenda,Banda,Banda Aceh,Bandar E Anzali,Bandar Maharani,Bandar Penggaram,Bandundu,Bandung,Baneh,Bangalore,Bangaon,Bangkok,Bangui,Banja Luka,Banjaran,Banjarmasin,Bankura,Bansbaria,Bantou,Banyuwangi,Baoding,Baoji,Baoshan,Barakpur,Baranagar,Barasat,Barbacena,Barcelona,Barddhaman,Bareli,Bari,Barinas,Baripada,Barisal,Barnala,Barnaul,Barquisimeto,Barra Mansa,Barrancabermeja,Barranquilla,Barreiras,Barretos,Barrie,Barsi,Barueri,Baruta,Basel,Basildon,Basirhat,Basti,Bat Yam,Bata,Batala,Batangas,Bataysk,Batman,Baton Rouge,Baturaja,Bauchi,Bauru,Bayamo,Bayrut,Beaumont,Beawar,Begusarai,Beian,Beibei,Beihai,Beipiao,Beira,Beirut,Bekasi,Belawan,Belfast,Belford Roxo,Belgaum,Belgorod,Belgrade,Bellary,Bellevue,Bello,Belo Horizonte,Belém,Bene Beraq,Bengbu,Benghazi,Bengkulu,Benguela,Benha,Beni Suef,Benoni,Benxi,Beppu,Berbera,Berezniki,Bergamo,Bergen,Bergisch Gladbach,Berkeley,Berlin,Bern,Bertoua,Besançon,Bethal,Betim,Bettiah,Bhadravati,Bhadreswar,Bhagalpur,Bhairab Bazar,Bharatpur,Bharuch,Bhatpara,Bhavnagar,Bhilai,Bhilwara,Bhimavaram,Bhind,Bhiwandi,Bhiwani,Bhopal,Bhubaneswar,Bhuj,Bhusawal,Bialystok,Bid,Bida,Bidar,Bielefeld,Bielsko Biala,Bihar,Bijapur,Bikaner,Bila Tserkva,Bilaspur,Bilbao,Binangonan,Binjai,Bintulu,Binzhou,Biratnagar,Birganj,Birigui,Birjand,Birmingham,Birnin Kebbi,Bisho,Bissau,Bitung,Biysk,Biên Hòa,Blackburn,Blackpool,Blagoveshchensk,Blantyre,Blitar,Bloemfontein,Blumenau,Boa Vista,Bobo Dioulasso,Bochum,Bogor,Bogotá,Bohicon,Bojnurd,Bokaro,Boksburg,Bologna,Bolton,Boma,Bombay,Bonn,Bontang,Bordeaux,Borujerd,Boshan,Boston,Botad,Botosani,Botshabelo,Bottrop,Botucatu,Bouaké,Boulogne Billancourt,Bournemouth,Bozhou,Bradford,Braga,Bragança Paulista,Brahmapur,Braila,Brakpan,Brasov,Brasília,Bratislava,Bratsk,Brazzaville,Brebes,Breda,Bremen,Bremerhaven,Brescia,Brest,Bridgeport,Brighton,Brikama,Brisbane,Bristol,Brits,Brno,Brownsville,Brugge,Brunswick,Brussels,Bryansk,Bucaramanga,Bucharest,Budapest,Budaun,Buenaventura,Buffalo,Buga,Bugama,Buhe,Bujumbura,Bukan,Bukavu,Bukit Mertajam,Bulandshahr,Bulaon,Bulawayo,Buon Me Thuot,Buraydah,Burbank,Burewala,Burgas,Burgos,Burhanpur,Bursa,Bushehr,Butembo,Butterworth,Butuan,Buzau,Bydgoszcz,Bytom,Bénin,Cabanatuan,Cabimas,Cabo Frio,Cabudare,Cachoeirinha,Cachoeiro De Itapemirim,Cadiz,Caen,Cagayan De Oro,Cagliari,Cagua,Cainta,Cairns,Cairo,Cajamarca,Calabar,Calabozo,Calama,Calamba,Calcutta,Calgary,Cali,Cam Pha,Cam Ranh,Camagüey,Camaragibe,Camaçari,Cambridge,Campeche,Campina Grande,Campinas,Campo Grande,Campos,Can Tho,Canberra,Cancún,Cangzhou,Canoas,Cap Haïtien,Cape Coast,Cape Coral,Cape Town,Capiatá,Caracas,Carapicuíba,Cardiff,Cariacica,Carmen,Carolina,Carrefour,Carrollton,Cartagena,Cartago,Caruaru,Cary,Carúpano,Casablanca,Cascavel,Castanhal,Catamarca,Catanduva,Catania,Catia La Mar,Caucaia,Cavite,Caxias,Caxias Do Sul,Cebu,Cedar Rapids,Celaya,Chakwal,Chalco,Champdani,Chandannagar,Chandausi,Chandigarh,Chandler,Chandpur,Chandrapur,Changchun,Changde,Changji,Changzhou,Chaohu,Chaoyang,Chaozhou,Chapecó,Charallave,Charleroi,Charleston,Charlotte,Chas,Chattanooga,Chavakachcheri,Cheboksary,Chelmsford,Cheltenham,Chelyabinsk,Chemnitz,Chengde,Chengdu,Chenghai,Chenzhou,Cherepovets,Cherkasy,Cherkessk,Chernihiv,Chernivtsi,Chesapeake,Chetumal,Chhapra,Chhatarpur,Chhindwara,Chiang Mai,Chicago,Chiclayo,Chifeng,Chigasaki,Chihuahua,Chikmagalur,Chillan,Chilpancingo,Chimalhuacán,Chimbote,Chimoio,Chinandega,Chincha Alta,Chingola,Chiniot,Chishtian Mandi,Chisinau,Chita,Chitradurga,Chittaurgarh,Chitungwiza,Chizhou,Chofu,Choloma,Chon Buri,Chongqing,Chorzow,Chosica,Christchurch,Chula Vista,Chuncheng,Chungho,Chupei,Churu,Chuzhou,Ciamis,Ciampea,Cianjur,Cibadak,Cibinong,Cibitung,Cicalengka,Ciego De Ávila,Cienfuegos,Cikampek,Cikarang,Cikupa,Cilegon,Cileungsi,Cileunyi,Cimahi,Cincinnati,Ciomas,Ciparay,Ciputat,Cirebon,Cisaat,Cisarua,Citeureup,Ciudad Bolívar,Ciudad Guayana,Ciudad Valles,Clarksville,Clearwater,Clermont Ferrand,Cleveland,Cluj Napoca,Coacalco,Coatzacoalcos,Cochabamba,Coimbra,Colatina,Colchester,Colima,Cologne,Colombo,Colorado Springs,Columbia,Columbus,Comodoro Rivadavia,Conakry,Concepcion,Concord,Concordia,Conselheiro Lafaiete,Constanta,Constantine,Contagem,Copenhagen,Copiapo,Coquimbo,Coral Springs,Cordoba,Cork,Coro,Corona,Coronel Fabriciano,Corpus Christi,Corrientes,Costa Mesa,Cotabato,Cotia,Cotonou,Cottbus,Coventry,Cracow,Craiova,Crawley,Criciúma,Cuautitlán Izcalli,Cuautla,Cubatão,Cuddapah,Cuenca,Cuernavaca,Cuiabá,Culiacán,Cumaná,Curico,Curitiba,Curug,Cusco,Czestochowa,Cà Mau,Córdoba,Cúa,Cúcuta,Da Lat,Da Nang,Daan,Dabrowa Gornicza,Dadiangas,Dadu,Dagupan,Dahuk,Daito,Dakar,Dali,Dalian,Daliang,Dallas,Daloa,Damascus,Damaturu,Damoh,Dandong,Danshui,Dar Es Salaam,Darbhanga,Darjiling,Darmstadt,Daska,Dasmariñas,Dasoguz,Datong,Daugavpils,Davao,Dawei,Dawukou,Daxian,Dayton,Debre Zeyit,Debrecen,Dehra Dun,Dehri,Dehui,Dekernes,Delhi,Delicias,Delmas,Denizli,Denpasar,Denton,Denver,Deoria,Depok,Dera Ghazi Khan,Dera Ismail Khan,Derbent,Derby,Des Moines,Dese,Detroit,Dewas,Deyang,Dezful,Dezhou,Dhaka,Dhanbad,Dharan,Dharmavaram,Dhaulpur,Dhule,Diadema,Dibrugarh,Didao,Digos,Dijon,Dimapur,Dimitrovgrad,Dinajpur,Dindigul,Dingzhou,Diourbel,Dire Dawa,Divinópolis,Divo,Djougou,Do Rud,Dodoma,Doha,Donghai,Dongli,Dongling,Dongtai,Dongying,Dordrecht,Dortmund,Dos Hermanas,Dos Quebradas,Douala,Dourados,Downey,Dresden,Drobeta Turnu Severin,Dubai,Dublin,Dudley,Duisburg,Dum Dum,Duma,Dumaguete,Dumai,Dundee,Dunedin,Dunhua,Duque De Caxias,Durango,Durban,Durg,Durgapur,Durham,Durrës,Dushanbe,Dzerzhinsk,Düsseldorf,East London,East Los Angeles,Eastbourne,Ebetsu,Ebina,Ecatepec,Ede,Edinburgh,Edirne,Edison,Edmonton,Edéa,Eindhoven,Ejido,Ejigbo,Ekibastuz,El Faiyûm,El Limón,El Mahalla El Kubra,El Monte,El Paso,El Progreso,El Tigre,Elbasan,Elblag,Eldoret,Elektrostal,Elista,Elizabeth,Eluru,Embu,Emmen,Encheng,Engels,Enschede,Ensenada,Enugu,Envigado,Erfurt,Erlangen,Erode,Erzincan,Erzurum,Escondido,Escuintla,Esenyurt,Esfahan,Eskisehir,Eslamshahr,Esmeraldas,Espoo,Essen,Etah,Etawah,Eugene,Evansville,Exeter,Ezhou,Fairfield,Faisalabad,Faizabad,Faridabad,Faridpur,Farrukhabad,Fatehpur,Fayetteville,Feira De Santana,Fengcheng,Fengshan,Fernando De La Mora,Ferrara,Ferraz De Vasconcelos,Fez,Fianarantsoa,Firozabad,Firozpur,Flint,Florence,Florencia,Florianópolis,Floridablanca,Focsani,Foggia,Fontana,Forlì,Formosa,Fort Collins,Fort Lauderdale,Fort Wayne,Fort Worth,Fortaleza,Foshan,Foz Do Iguaçu,Franca,Francisco Morato,Franco Da Rocha,Frankfurt,Freetown,Freiburg,Fremont,Fresnillo,Fresno,Fuchu,Fuenlabrada,Fuji,Fujieda,Fujimi,Fujinomiya,Fujisawa,Fukaya,Fukuyama,Fuling,Fullerton,Funabashi,Funtua,Fushun,Fuxin,Fuyang,Fuyu,Fuzhou,Fürth,Gaborone,Gadag,Gagnoa,Gainesville,Galati,Gandajika,Gandhidham,Gandhinagar,Ganganagar,Gangapur,Gangawati,Ganzhou,Gaomi,Gaozhou,Garanhuns,Garden Grove,Gardez,Garland,Garoua,Garut,Garza García,Gashua,Gaya,Gaziantep,Gazipur,Gazni,Gboko,Gbongan,Gdansk,Gdynia,Gebze,Geelong,Gejiu,Gelsenkirchen,Gemena,General Escobedo,Geneva,Genoa,Gent,George,Georgetown,Gera,Getafe,Ghaziabad,Ghazipur,Gijón,Gilbert,Gillingham,Girardot,Girón,Giugliano In Campania,Gizeh,Glasgow,Glazov,Glendale,Gliwice,Gloucester,Godhra,Goiânia,Gojra,Gold Coast,Goma,Gombe,Gomel,Gonbad E Qabus,Gonda,Gondal,Gondar,Gongzhuling,Gorakhpur,Gorgan,Gorontalo,Gorzow Wielkopolski,Governador Valadares,Granada,Grand Prairie,Grand Rapids,Gravataí,Graz,Green Bay,Greensboro,Grenoble,Grogol,Groningen,Guacara,Guadalajara,Guadalupe,Guanare,Guangshui,Guangyuan,Guangzhou,Guantánamo,Guarapari,Guarapuava,Guaratinguetá,Guarenas,Guarujá,Guarulhos,Guatemala,Guatemala City,Guatire,Guayaquil,Guaymas,Guaíba,Gudalur,Gudivada,Guelph,Guilin,Guiyang,Gujranwala,Gujrat,Gulbarga,Gulu,Guna,Guntakal,Guntur,Gurgaon,Gusau,Guwahati,Gwalior,Gweru,Gyor,Gyumri,Gómez Palacio,Göteborg,Göttingen,Ha Noi,Haarlem,Haarlemmermeer,Habikino,Habra,Hachinohe,Hachioji,Hadano,Hadejia,Hafizabad,Hagen,Hagonoy,Hai Phong,Haibowan,Haicheng,Haifa,Haikou,Hailar,Hailun,Haimen,Hajipur,Hakodate,Haldia,Haldwani,Halifax,Halisahar,Halle,Hamadan,Hamamatsu,Hamburg,Hami,Hamilton,Hamm,Hampton,Handa,Handan,Hangu,Hangzhou,Hanoi,Hanover,Hanumangarh,Hanzhong,Haora,Hapur,Harare,Harbin,Hardoi,Hargeysa,Haridwar,Hartford,Hassan,Hat Yai,Hathras,Hayward,Hazaribag,Hebi,Hefei,Hegang,Heidelberg,Heihe,Heilbronn,Helsinki,Henderson,Hengshan,Hengshui,Hengyang,Henzada,Herat,Hermosillo,Herne,Heze,Hialeah,Highlands Ranch,Higüey,Hikone,Hildesheim,Himeji,Hindupur,Hino,Hirakata,Hiratsuka,Hirosaki,Hiroshima,Hisar,Hitachi,Ho Chi Minh City,Hobart,Hofu,Hohhot,Holguín,Hollywood,Hong Gai,Honggang,Honghu,Horlivka,Hortolândia,Hoshangabad,Hoshiarpur,Hospet,Hosur,Houma,Houston,Hrodna,Hsichih,Hsinchu,Hsintien,Huadian,Huaibei,Huaihua,Huainan,Huaiyin,Huambo,Huancayo,Huangcun,Huangpu,Huangyan,Huangzhou,Hubli,Huddersfield,Hue,Huelva,Huicheng,Huixquilucan,Huizhou,Hulan,Hulan Ergi,Humen,Huntington Beach,Huntsville,Huzhou,Huánuco,Hyderabad,Hòa Bình,Iasi,Ibadan,Ibagué,Ibaraki,Ibarra,Ibb,Ibirité,Ica,Ichalkaranji,Ichihara,Ichikawa,Ichinomiya,Idlib,Ife,Igboho,Iguala,Iida,Ijero,Ikare,Ikere,Ikire,Ikirun,Ikole,Ikoma,Ikorodu,Ikot Ekpene,Ila,Ilam,Ilawe,Ilebo,Ilesha,Ilhéus,Iligan,Ilobu,Iloilo,Ilorin,Imabari,Imperatriz,Imphal,Inazawa,Indaiatuba,Independence,Indianapolis,Indore,Indramayu,Inegol,Inglewood,Ingolstadt,Ingraj Bazar,Inisa,Innsbruck,Ipatinga,Ipoh,Ipswich,Iquique,Iquitos,Iranshahr,Irapuato,Irbid,Irbil,Iringa,Irkutsk,Iruma,Irvine,Irving,Iráklion,Ise,Isehara,Isesaki,Iseyin,Ishinomaki,Isiro,Iskenderun,Islamabad,Ismailia,Isparta,Istanbul,Itaboraí,Itabuna,Itaguaí,Itagüí,Itajaí,Itami,Itapecerica Da Serra,Itapetininga,Itapevi,Itaquaquecetuba,Itarsi,Itu,Ivanovo,Iwaki,Iwakuni,Iwatsuki,Iwo,Ixtapaluca,Izhevsk,Izmir,Izmit,Izumi,Jabalpur,Jaboatão,Jacareí,Jackson,Jacksonville,Jacobabad,Jaffna,Jagadhri,Jahrom,Jaipur,Jakarta,Jalalabad,Jalandhar,Jalingo,Jalna,Jalpaiguri,Jamalpur,Jamame,Jambi,Jammu,Jamnagar,Jamshedpur,Jamuria,Jandira,Jaraguá Do Sul,Jaramana,Jaranwala,Jaunpur,Jaén,Jaú,Jember,Jequié,Jerez,Jersey City,Jerusalem,Jetpur,Jhang,Jhansi,Jhelum,Jhunjhunun,Ji Paraná,Jiamusi,Jian,Jiangmen,Jiangyin,Jiangyou,Jiaohe,Jiaojiang,Jiaozhou,Jiaozuo,Jiaxing,Jiayuguan,Jiazi,Jibuti,Jiddah,Jieshi,Jieshou,Jilin,Jimeta,Jimma,Jinan,Jinchang,Jinchengjiang,Jind,Jingdezhen,Jinhua,Jining,Jinxi,Jinzhou,Jiroft,Jishou,Jishu,Jiujiang,Jiupu,Jiutai,Jiutepec,Jixi,Jodhpur,Joetsu,Johannesburg,Johor Bahru,Joinville,Joliet,Jolo,Jombang,Jos,João Pessoa,Juarez,Juazeiro Do Norte,Juba,Juiz De Fora,Jujuy,Juliaca,Junagadh,Jundiaí,Juàzeiro,Kabankalan,Kabul,Kabwe,Kadoma,Kaduna,Kahramanmaras,Kaifeng,Kaili,Kaithal,Kaiyuan,Kakamigahara,Kakinada,Kakogawa,Kalemie,Kaliningrad,Kalisz,Kallithéa,Kalmunai,Kalol,Kaluga,Kalyan,Kamagaya,Kamakura,Kamalia,Kamarhati,Kamensk Uralskiy,Kamoke,Kampala,Kamyshin,Kananga,Kanchipuram,Kanchrapara,Kandi,Kandy,Kankan,Kano,Kanpur,Kansas City,Kansk,Kaohsiung,Kaolack,Kapra,Karachi,Karaj,Karaman,Karamay,Karang Tengah,Karawang,Karimnagar,Kariya,Karlsruhe,Karnal,Kashan,Kashi,Kashihara,Kashipur,Kashiwa,Kassala,Kassel,Kasuga,Kasugai,Kasukabe,Kasur,Kathmandu,Katihar,Katowice,Katsina,Katumba,Kaunas,Kawagoe,Kawaguchi,Kawanishi,Kawasaki,Kayseri,Kazan,Kebumen,Kecskemét,Kediri,Kedungwuni,Keelung,Kelowna,Kemang,Kemerovo,Kendari,Kenitra,Kerch,Kerman,Kermanshah,Khabarovsk,Khairpur,Khammam,Khandwa,Khanewal,Khanna,Khanpur,Kharagpur,Khardaha,Khartoum,Kherson,Khimki,Khlong Luang,Khomeynishahr,Khon Kaen,Khorramabad,Khorramshahr,Khoy,Khujand,Khulna,Khurja,Khushab,Khuzdar,Kiel,Kielce,Kiev,Kigali,Kigoma,Kikwit,Killeen,Kimberley,Kindia,Kindu,Kingston,Kingston Upon Hull,Kinshasa,Kirkuk,Kirov,Kirovohrad,Kiryu,Kisangani,Kisaran,Kisarazu,Kishi,Kishiwada,Kislovodsk,Kismayo,Kisumu,Kitakyushu,Kitami,Kitchener,Kitwe,Klaipeda,Klang,Klaten,Klerksdorp,Kluang,Knoxville,Kobe,Koblenz,Kochi,Kodaira,Koganei,Kohat,Koidu,Kokubunji,Kolar,Kolhapur,Kollam,Kolomna,Kolpino,Komaki,Komatsu,Komsomolsk Na Amure,Konan,Konya,Korba,Korhogo,Koriyama,Korla,Koronadal,Koshigaya,Kosice,Kostroma,Koszalin,Kot Addu,Kota,Kota Bahru,Kota Kinabalu,Kotte,Kousséri,Kovrov,Kpalimé,Kragujevac,Krasnodar,Krasnoyarsk,Krefeld,Kremenchuk,Kresek,Krishnanagar,Kroonstad,Krugersdorp,Kryvyy Rih,Kuala Lumpur,Kuala Terengganu,Kuantan,Kuching,Kuhdasht,Kuito,Kulim,Kulti,Kumagaya,Kumanovo,Kumasi,Kumba,Kumbakonam,Kunming,Kupang,Kurashiki,Kure,Kurgan,Kursk,Kurume,Kusatsu,Kusti,Kuwana,Kuytun,Kwekwe,Kyzyl,Kütahya,La Ceiba,La Paz,La Plata,La Rioja,La Romana,La Serena,La Vega,Lafayette,Lafia,Lafiagi,Lages,Lagos,Lahad Datu,Lahore,Laiwu,Laiyang,Lakewood,Lakhimpur,Lakhnau,Lalitpur,Lambaré,Lampang,Lancaster,Langfang,Lansing,Lanzhou,Laoag,Laohekou,Lapu Lapu,Laredo,Larkana,Las Palmas,Las Tunas,Las Vegas,Lasa,Lashio,Latina,Latur,Lausanne,Lawang,Le Havre,Le Mans,Leeds,Leganés,Legaspi,Leghorn,Legnica,Leicester,Leiden,Leipzig,Leiyang,Lembang,Lemesos,Lengshuijiang,Leninsk Kuznetskiy,Leshan,Leuwiliang,Leverkusen,Lexington Fayette,León,Liancheng,Lianran,Liaocheng,Liaoyang,Libreville,Licheng,Lichinga,Likasi,Lille,Lilongwe,Lima,Limeira,Limoges,Linchuan,Lincoln,Linfen,Linhai,Linhares,Linqing,Linshui,Linxi,Linxia,Linz,Lipa,Lipetsk,Lira,Lisbon,Little Rock,Liusha,Liuzhou,Liverpool,Livingstone,Liège,Ljubljana,Lleida,Loa Janan,Lobito,Logroño,Loja,London,Londrina,Long Beach,Long Xuyên,Longfeng,Longjiang,Longjing,Longyan,Loni,Los Angeles,Los Mochis,Los Reyes,Los Teques,Loudi,Louga,Louisville,Loum,Lowell,Lower Hutt,Luan,Luancheng,Luanda,Luanshya,Lubango,Lubbock,Lublin,Lubumbashi,Lucena,Luchou,Ludhiana,Ludwigshafen,Lumajang,Luohe,Luoyang,Luqiao,Luque,Lusaka,Luton,Luxor,Luzhou,Luziânia,Lvov,Lyon,Lyubertsy,Lárisa,López Mateos,Lübeck,Maanshan,Maastricht,Maba,Mabalacat,Macapá,Macaé,Maceió,Machala,Macheng,Machida,Machilipatnam,Madanapalle,Madhyamgram,Madison,Madiun,Madras,Madrid,Madurai,Magangué,Magdeburg,Magelang,Magnitogorsk,Magé,Mahabad,Mahajanga,Mahbubnagar,Mahesana,Maicao,Maiduguri,Mainz,Maisuru,Majalaya,Makasar,Makati,Makhachkala,Makiyivka,Makurdi,Malabo,Malakal,Malambo,Malang,Malatya,Malegaon,Maler Kotla,Malmö,Malolos,Man,Manado,Managua,Manama,Manaus,Manbij,Manchester,Mandalay,Mandaue,Mandi Bahauddin,Mandsaur,Mandya,Mangaluru,Manila,Manisa,Manizales,Mannheim,Manta,Manzanillo,Manzini,Maoming,Maputo,Mar Del Plata,Marabá,Maracaibo,Maracanaú,Maracay,Maradi,Maragheh,Marand,Marawi,Marbella,Mardan,Mariara,Maringá,Marivan,Maroua,Marrakesh,Marseille,Martapura,Marv Dasht,Marília,Masaya,Maseru,Mashhad,Masjed E Soleyman,Matadi,Matamoros,Matanzas,Mataram,Mataró,Mathura,Matola,Matsubara,Matsudo,Matsumoto,Matsusaka,Maturín,Mau,Mauá,Mawlamyine,Maxixe,Maykop,Maymyo,Mazatlán,Mazyr,Mbandaka,Mbeya,Mbouda,Mbour,Mbuji Mayi,Mecca,Medan,Medellín,Meiktila,Meilu,Mejicanos,Melaka,Melbourne,Memphis,Mendoza,Mentougou,Mercedes,Mergui,Mersin,Mesa,Mesquite,Messina,Metairie,Metepec,Metro,Metz,Mexicali,Mexico,Meycauayan,Mezhdurechensk,Miami,Miandoab,Mianyang,Miass,Middelburg,Middlesbrough,Midrand,Milagro,Milan,Milwaukee,Minatitlán,Mingaora,Mingshui,Minna,Minneapolis,Minsk,Miramar,Miri,Mirpur Khas,Mirzapur,Misato,Mishima,Miskolc,Misratah,Mitaka,Mixco,Miyakonojo,Mobile,Modakeke,Modena,Modesto,Moers,Moga,Mogadishu,Moji Das Cruzes,Mojokerto,Mokolo,Mombasa,Monclova,Monrovia,Montalban,Monterrey,Montería,Montes Claros,Montevideo,Montgomery,Montpellier,Montreal,Monywa,Monza,Mopti,Moradabad,Moratuwa,Morelia,Morena,Moreno Valley,Moriguchi,Mormugao,Morogoro,Morvi,Moscow,Moshi,Mossoró,Mostar,Motihari,Moundou,Mubi,Mudanjiang,Mufulira,Mulhouse,Multan,Munger,Munich,Murcia,Muridke,Murmansk,Murom,Murwara,Musashino,Musoma,Mutare,Muzaffargarh,Muzaffarnagar,Muzaffarpur,Mwanza,Mwene Ditu,My Tho,Myingyan,Mytishchi,Málaga,Médéa,Mérida,Móstoles,Mönchengladbach,Mülheim,Münster,Nacala,Nadiad,Nador,Naga,Nagaoka,Nagareyama,Nagda,Nagercoil,Nagoya,Nagpur,Naihati,Nairobi,Najran,Nakhodka,Nakhon Pathom,Nakhon Ratchasima,Nakhon Si Thammarat,Nakuru,Nalchik,Nalgonda,Nam Dinh,Namangan,Nampula,Namur,Nancha,Nanchang,Nanchong,Nancy,Nanded,Nandurbar,Nandyal,Nangloi Jat,Nanjing,Nanning,Nanpiao,Nantes,Nantong,Nantou,Nanyang,Naperville,Naples,Narashino,Narayanganj,Narita,Narsingdi,Nashville,Nassau,Natal,Naucalpan,Navadwip,Navoi,Navsari,Nawabganj,Nawabshah,Nazilli,Nazran,Nazret,Ndola,Neftekamsk,Nefteyugansk,Negombo,Nehe,Neijiang,Neiva,Nelspruit,Netanya,Neuquen,Neuss,Nevinnomyssk,New Delhi,New Haven,New Orleans,New York,Newark,Newcastle,Newcastle Upon Tyne,Newport,Newport News,Neyagawa,Neyshabur,Neyveli,Nezahualcóyotl,Ngaoundéré,Nguru,Nha Trang,Niamey,Nice,Nicolás Romero,Nigel,Niigata,Niihama,Niiza,Nijmegen,Nilópolis,Ningbo,Nis,Nishinomiya,Nishio,Niterói,Nizamabad,Nizhnekamsk,Nizhnevartovsk,Nizhniy Novgorod,Nizhniy Tagil,Nkongsamba,Nkpor,Nnewi,Nobeoka,Noda,Nogales,Noginsk,Nonthaburi,Norfolk,Norilsk,"
     ]
    },
    {
     "name": "stdout",
     "output_type": "stream",
     "text": [
      "Norman,North Las Vegas,North Shore,Northampton,Norwalk,Norwich,Nossa Senhora Do Socorro,Nottingham,Nouakchott,Nova Friburgo,Nova Iguaçu,Novara,Novi Sad,Novo Hamburgo,Novocheboksarsk,Novocherkassk,Novokuznetsk,Novomoskovsk,Novorossiysk,Novosibirsk,Novotroitsk,Nsukka,Nueva San Salvador,Nuevo Laredo,Nukus,Numazu,Nuremberg,Nyíregyháza,Nzérékoré,Nîmes,Oakland,Oaxaca,Oberhausen,Obihiro,Obninsk,Obosi,Obregon,Obuasi,Oceanside,Ocumare Del Tuy,Odawara,Odense,Odesa,Odintsovo,Offa,Offenbach,Ogaki,Ogbomosho,Okara,Okazaki,Oklahoma City,Okrika,Oktyabrskiy,Olathe,Oldenburg,Oldham,Olinda,Olomouc,Olongapo,Olsztyn,Omaha,Ome,Omsk,Omuta,Ondo,Ongole,Onitsha,Ontario,Opobo,Opole,Oradea,Orai,Orange,Ordu,Orekhovo Zuevo,Orizaba,Orkney,Orlando,Orléans,Oron,Orsha,Orsk,Orumiyeh,Oruro,Orël,Osasco,Oshawa,Oshogbo,Oslo,Osmaniye,Osnabrück,Osorno,Ostrava,Ota,Otaru,Ottawa,Otukpo,Ouagadougou,Oulu,Overland Park,Oviedo,Owerri,Owo,Oxford,Oxnard,Oyama,Oyo,Paarl,Pabna,Pacet,Pachuca,Padalarang,Padang,Paderborn,Padova,Pagadian,Pak Kret,Pakokku,Pakpattan,Palakkad,Palanpur,Palembang,Palermo,Palhoça,Pali,Pallavaram,Palma,Palma Soriano,Palmas,Palmdale,Palmira,Palo Negro,Palu,Palwal,Pamanukan,Pamplona,Pamulang,Panamá,Panchiao,Panevezys,Pangkah,Panihati,Panipat,Panvel,Panzhihua,Paradise,Parakou,Paramaribo,Parana,Paranaguá,Parbhani,Paris,Parma,Parnamirim,Parnaíba,Parsabad,Parung,Pasadena,Pasarkemis,Paseh,Pasir Gudang,Passo Fundo,Pasto,Pasuruan,Patan,Pate,Paterson,Pathankot,Pathein,Pati,Patiala,Patna,Patos De Minas,Paulista,Pavlodar,Pavlohrad,Payakumbuh,Pekalongan,Peking,Pelotas,Pemalang,Pemba,Pembroke Pines,Penza,Peoria,Perbaungan,Pereira,Peristérion,Perm,Perpignan,Perth,Perugia,Pervouralsk,Pescara,Peshawar,Petaling Jaya,Petapa,Petare,Peterborough,Petrolina,Petropavl,Petropavlovsk Kamchatskiy,Petrozavodsk,Petrópolis,Pforzheim,Phagwara,Phalaborwa,Phan Thiet,Philadelphia,Phitsanulok,Phnum Pénh,Phoenix,Phra Pradaeng,Piatra Neamt,Piedras Negras,Pietermaritzburg,Pietersburg,Pilibhit,Pimpri,Pinar Del Río,Pindamonhangaba,Pindiga,Pingchen,Pingdingshan,Pingliang,Pingshan,Pingtung,Pingxiang,Pinsk,Piracicaba,Pitesti,Pittsburgh,Piura,Plano,Pleven,Plock,Ploiesti,Plovdiv,Plumbon,Plymouth,Plzen,Plây Cu,Podgorica,Podolsk,Pokhara,Poltava,Pomona,Ponce,Pondicherry,Ponnani,Ponta Grossa,Pontianak,Poole,Porbandar,Port Au Prince,Port Blair,Port Elizabeth,Port Gentil,Port Harcourt,Port Louis,Port Moresby,Port Said,Port Saint Lucie,Portland,Portmore,Porto,Porto Alegre,Portoviejo,Portsmouth,Posadas,Potchefstroom,Potgietersrus,Potosí,Potsdam,Pouso Alegre,Poznan,Poá,Poços De Caldas,Prabumulih,Prague,Praia Grande,Prato,Presidente Prudente,Preston,Pretoria,Pringsewu,Pristina,Prizren,Probolinggo,Proddatur,Prokopyevsk,Providence,Provo,Pskov,Pucallpa,Pudukkottai,Puebla,Pueblo,Puerto Cabello,Puerto Montt,Puerto Plata,Puerto Princesa,Puerto Vallarta,Pulandian,Pune,Puno,Punta Arenas,Punto Fijo,Puqi,Puri,Purnia,Puruliya,Purwakarta,Purwodadi,Purwokerto,Purworejo,Puyang,Pyatigorsk,Pyay,Pátrai,Pécs,Pétionville,Pôrto Seguro,Pôrto Velho,Qabis,Qalyub,Qandahar,Qarchak,Qazvin,Qena,Qianguo,Qianjiang,Qingdao,Qingyuan,Qinhuangdao,Qinzhou,Qiqihar,Qitaihe,Qom,Qostanay,Quanzhou,Quchan,Quebec,Queenstown,Queimados,Quelimane,Queluz,Querétaro,Quetta,Quetzaltenango,Quevedo,Qui Nhon,Quilpue,Quito,Qujing,Qunduz,Rabak,Rabat,Rach Gia,Radom,Rae Bareli,Rafsanjan,Raichur,Raiganj,Raigarh,Raipur,Rajamahendri,Rajapalaiyam,Rajkot,Rajpur,Rajshahi,Raleigh,Ramat Gan,Ramnicu Valcea,Rampur,Rancaekek,Rancagua,Ranchi,Rancho Cucamonga,Randfontein,Ranghulu,Rangkasbitung,Rangoon,Rangpur,Raniganj,Rantauprapat,Rasht,Ratisbon,Ratlam,Raurkela,Ravenna,Rawalpindi,Rawang,Rayong,Reading,Recife,Recklinghausen,Reggio Di Calabria,Regina,Reims,Remscheid,Rengasdengklok,Rennes,Reno,Resende,Resistencia,Reutlingen,Rewa,Rewari,Reykjavík,Reynosa,Rialto,Ribeirão Das Neves,Ribeirão Pires,Ribeirão Prêto,Richards Bay,Richardson,Richmond,Riga,Rijeka,Rimini,Rio Branco,Rio Claro,Rio Cuarto,Rio De Janeiro,Rio Grande,Riobamba,Rishra,Riverside,Rivne,Riyadh,Rizhao,Robertsonpet,Rochester,Rockford,Rohtak,Rome,Rondonópolis,Rongcheng,Rosario,Roseville,Rostock,Rostov Na Donu,Rotherham,Rotterdam,Rouen,Roxas,Rubtsovsk,Ruda Slaska,Ruian,Ruiru,Ruse,Rustenburg,Ryazan,Rybinsk,Rybnik,Rzeszow,Saarbrücken,Sabadell,Sabará,Sabha,Sabratah,Sabzevar,Sacramento,Sadiqabad,Safaqis,Saga,Sagamihara,Sagar,Saharanpur,Saharsa,Sahiwal,Saint Denis,Saint Helens,Saint Louis,Saint Paul,Saint Petersburg,Saint Étienne,Saitama,Sakai,Sakata,Sakura,Salalah,Salamanca,Salatiga,Salavat,Salem,Salerno,Salihorsk,Salinas,Salt Lake City,Salta,Saltillo,Salto,Salvador,Salzburg,Salzgitter,Samara,Samarinda,Samarkand,Sambalpur,Sambhal,Samsun,Samut Prakan,San Antonio,San Bernardino,San Bernardo,San Carlos De Bariloche,San Cristóbal,San Diego,San Fernando,San Francisco,San Francisco De Macorís,San Jose,San José,San Juan,San Juan Del Río,San Juan Sacatepéquez,San Lorenzo,San Luis,San Luis Potosí,San Luis Río Colorado,San Martin,San Mateo,San Miguelito,San Nicolas,San Nicolás De Los Garza,San Pablo,San Pablo De Las Salinas,San Pedro,San Pedro De Macorís,San Pedro Sula,San Pédro,San Rafael,San Salvador,Sanandaj,Sanbu,Sanchung,Sancti Spíritus,Sanda,Sandakan,Sanhsia,Sanmenxia,Sanming,Santa Ana,Santa Catarina,Santa Clara,Santa Clarita,Santa Cruz,Santa Cruz De Tenerife,Santa Cruz Do Sul,Santa Fe,Santa Luzia,Santa Maria,Santa Marta,Santa Rita,Santa Rosa,Santa Teresa,Santander,Santarém,Santiago,Santiago De Cuba,Santiago Del Estero,Santo André,Santo Domingo,Santos,Sapele,Sapucaia,Saqqez,Sarajevo,Saransk,Sarapul,Saratov,Sargodha,Sarh,Sari,Sasaram,Sasebo,Saskatoon,Sassari,Satara,Satkhira,Satna,Satu Mare,Savannah,Saveh,Sawai Madhopur,Sawangan,Sayama,Scottsdale,Seattle,Sekondi,Sekudai,Selam,Semarang,Semey,Semnan,Seoni,Seoul,Sepatan,Serang,Serekunda,Seremban,Sergiyev Posad,Serpukhov,Serra,Sete Lagoas,Seto,Setúbal,Severodvinsk,Seversk,Sevilla,Shagamu,Shah Alam,Shahe,Shahjahanpur,Shahr E Kord,Shahreza,Shahrud,Shakhty,Shaki,Shanghai,Shangqiu,Shangrao,Shantipur,Shaoguan,Shaowu,Shaoxing,Shaoyang,Shaping,Sharjah,Shashi,Sheffield,Shekhupura,Shenyang,Shenzhen,Sherbrooke,Sherpur,Shihezi,Shikarpur,Shiliguri,Shillong,Shilong,Shimla,Shimoga,Shimonoseki,Shinyanga,Shiraz,Shishou,Shiyan,Shizuishan,Sholapur,Shreveport,Shrirampur,Shuangcheng,Shuangyashan,Shulin,Shunyi,Shymkent,Si Racha,Sialkot,Siauliai,Sibiu,Sibu,Sidoarjo,Siegen,Siirt,Sikar,Sikasso,Silchar,Simi Valley,Sincelejo,Singapore,Singaraja,Singkawang,Sinnar,Sioux Falls,Sirajganj,Sirjan,Sirsa,Sitapur,Sivas,Siverek,Siwan,Skopje,Slough,Smolensk,Soacha,Sobral,Soc Trang,Sochi,Sofia,Sogamoso,Sohag,Soka,Sokodé,Sokoto,Soledad,Solikamsk,Solingen,Somerset West,Songea,Sonipat,Soreang,Sorocaba,Sorong,Sosnowiec,Soubré,South Bend,Southampton,Southend On Sea,Soweto,Soyapango,Spanish Town,Split,Spokane,Spring Valley,Springfield,Springs,Srikakulam,Srinagar,Stamford,Stara Zagora,Staryy Oskol,Stavanger,Stavropol,Sterling Heights,Sterlitamak,Stockholm,Stockport,Stockton,Stoke On Trent,Strasbourg,Stuttgart,Subang,Suceava,Sucre,Sudbury,Suez,Suihua,Suining,Suita,Sujiatun,Sukabumi,Sukaraja,Sukkur,Suleja,Sullana,Sultanpur,Sumaré,Sumedang,Sumy,Sunderland,Sungai Petani,Sunggal,Sunnyvale,Sunrise Manor,Sur,Surabaya,Surakarta,Surat,Surat Thani,Surendranagar,Surgut,Suriapet,Surt,Susah,Sutton Coldfield,Suzano,Suzhou,Suzuka,Swansea,Swindon,Sydney,Syktyvkar,Syracuse,Syzran,Szczecin,Szeged,Székesfehérvár,São Bernardo Do Campo,São Caetano Do Sul,São Carlos,São Gonçalo,São José,São José Do Rio Prêto,São José Dos Campos,São José Dos Pinhais,São João De Meriti,São Leopoldo,São Luís,São Paulo,São Vicente,Tabora,Taboão Da Serra,Tabriz,Tabuk,Tachikawa,Tacloban,Tacna,Tacoma,Tadepallegudem,Taganrog,Tagum,Taian,Taicheng,Taichung,Tainan,Taipei,Taiping,Taitung,Taiyuan,Taizhou,Tajimi,Takaoka,Takarazuka,Takasaki,Takatsuki,Takoradi,Talara,Talca,Talcahuano,Tali,Talisay,Talkha,Tallahassee,Tallinn,Tama,Tamale,Taman,Tambaram,Tambov,Tambun,Tampa,Tampere,Tampico,Tandil,Tando Adam,Tanete,Tanga,Tangerang,Tanggu,Tangier,Tangshan,Tanjung Morawa,Tanshui,Tanta,Tanza,Taonan,Taoyüan,Tapachula,Taranto,Taraz,Targu Mures,Tarhunah,Tarija,Tarlac,Tarnow,Tarragona,Tarsus,Tartu,Tartus,Tashkent,Tasikmalaya,Taubaté,Taunggyi,Tauranga,Tawau,Taytay,Tbilisi,Tebingtinggi,Tegal,Tegucigalpa,Tehuacán,Tekirdag,Tel Aviv Yafo,Teluknaga,Tema,Tembisa,Temirtau,Tempe,Temuco,Tenali,Tengzhou,Tepic,Teresina,Teresópolis,Termiz,Ternate,Terni,Terrassa,Teshie,Tete,Texcoco,Teófilo Otoni,Thana,Thanesar,Thanh Hóa,Thanjavur,Thanyaburi,Thaton,The Hague,Thessaloníki,Thiruvananthapuram,Thiès,Thornton,Thousand Oaks,Thrissur,Thái Nguyên,Tianjin,Tianmen,Tieli,Tieling,Tighina,Tijuana,Tilburg,Timisoara,Timon,Tirana,Tiruchchirappalli,Tirunelveli,Tirupati,Tiruppur,Tiruvannamalai,Tiruvottiyur,Titagarh,Tlalnepantla,Tlaquepaque,Toamasina,Toda,Tokat,Tokorozawa,Tokuyama,Tokyo,Toledo,Toliary,Toluca,Tolyatti,Tomakomai,Toms River,Tomsk,Tonalá,Tondabayashi,Tongchuan,Tongliao,Tongling,Tongzhou,Tonk,Topeka,Toronto,Torrance,Torrejón De Ardoz,Torreón,Torun,Tottori,Touliu,Toulon,Toulouse,Toungoo,Tours,Townsville,Toyohashi,Toyokawa,Toyonaka,Toyota,Trabzon,Trelew,Trento,Trier,Trieste,Trincomalee,Tripoli,Trois Rivières,Trondheim,Trujillo,Tshikapa,Tsuchiura,Tsukuba,Tubruq,Tucheng,Tucson,Tucuman,Tuguegarao,Tula,Tulancingo,Tulsa,Tuluá,Tumbes,Tumkur,Tungi,Tunis,Tunja,Turgutlu,Turhal,Turin,Turku,Turmero,Tuxtla Gutiérrez,Tuzla,Tver,Tychy,Tyumen,Tétouan,Türkmenabat,Ube,Uberaba,Uberlândia,Ubon Ratchathani,Udgir,Udon Thani,Udupi,Ueda,Ufa,Ugep,Uitenhage,Uji,Ujjain,Ukhta,Ulaanbaatar,Ulan Ude,Ulhasnagar,Ulm,Ulubaria,Ulyanovsk,Umm Durman,Umuahia,Ungaran,Unnao,Uppsala,Urayasu,Urdaneta,Urfa,Uromi,Uruapan,Uruguaiana,Usak,Ussuriysk,Ust Ilimsk,Utrecht,Uvira,Uyo,Uzhhorod,Vadodara,Valdivia,Valencia,Valladolid,Valledupar,Vallejo,Valparaiso,Van,Vanadzor,Vancouver,Vanderbijlpark,Varamin,Varanasi,Varginha,Varna,Vejalpur,Velikie Luki,Velikiy Novgorod,Velluru,Venice,Veracruz,Veraval,Vereeniging,Verona,Verwoerdburg,Viamão,Vicenza,Victoria,Vidisha,Vienna,Vientiane,Vigo,Vihari,Vijayawada,Vila Velha,Villa Canales,Villa Nueva,Villahermosa,Villavicencio,Villeurbanne,Vilnius,Vina Del Mar,Vinh,Vinh Long,Vinnitsa,Vinnytsya,Viransehir,Virar,Virginia,Virginia Beach,Visakhapatnam,Visalia,Vitoria,Vitória,Vitória Da Conquista,Vitória De Santo Antão,Vizianagaram,Vladikavkaz,Vladimir,Vladivostok,Volgodonsk,Volgograd,Vologda,Volta Redonda,Volzhskiy,Voronezh,Vryheid,Vung Tau,Várzea Grande,Várzea Paulista,Västerås,Waco,Wad Madani,Wah,Wahran,Waitakere,Walbrzych,Walsall,Wanxian,Warangal,Wardha,Warqla,Warren,Warri,Warsaw,Waru,Washington,Waterbury,Waterloo,Watford,Waw,Wazirabad,Weifang,Weihai,Weinan,Welkom,Wellington,Wencheng,Wenzhou,Weru,West Bromwich,West Covina,West Jordan,West Valley City,Westminster,Westonaria,Wichita,Wichita Falls,Wiesbaden,Windhoek,Windsor,Winnipeg,Winston Salem,Witbank,Witten,Wloclawek,Wolfsburg,Wollongong,Wolverhampton,Worcester,Wroclaw,Wuda,Wufeng,Wuhan,Wuhu,Wulanhaote,Wuning,Wuppertal,Wuwei,Wuxi,Wuxue,Wuzhou,Würzburg,Xai Xai,Xalapa,Xiamen,Xian,Xiangdong,Xiangfan,Xiantao,Xianyang,Xiaolan,Xiazhen,Xichang,Xico,Xingtai,Xingyi,Xining,Xinpu,Xintai,Xinxiang,Xinyang,Xinzhou,Xuanhua,Xuanzhou,Xuchang,Xuzhou,Yaan,Yachiyo,Yaizu,Yakeshi,Yamoussoukro,Yamunanagar,Yanan,Yancheng,Yangjiang,Yangmei,Yangzhou,Yanji,Yantai,Yao,Yaoundé,Yaroslavl,Yatsushiro,Yavatmal,Yazd,Yekaterinburg,Yelahanka,Yelets,Yenangyaung,Yerevan,Yevpatoriya,Yibin,Yichang,Yichun,Yidu,Yinchuan,Yingcheng,Yingkou,Yingzhong,Yining,Yiyang,Yizheng,Yogyakarta,Yokkaichi,Yokosuka,Yonago,Yongan,Yonkers,York,Yuci,Yueyang,Yulin,Yuncheng,Yungho,Yungkang,Yushan,Yushu,Yuyao,Yüanlin,Zaanstad,Zabol,Zabrze,Zacatecas,Zagreb,Zalantun,Zama,Zamboanga,Zamora,Zanjan,Zanzibar,Zaoyang,Zaozhuang,Zapopan,Zaporizhzhya,Zaragoza,Zaria,Zelenodolsk,Zelenograd,Zenica,Zhangdian,Zhangjiakou,Zhangzhou,Zhanjiang,Zhaocheng,Zhaodong,Zhaoqing,Zhaotong,Zhaoyang,Zhenjiang,Zhezkazgan,Zhicheng,Zhongshan,Zhoucheng,Zhoucun,Zhoukou,Zhucheng,Zhuhai,Zhuji,Zhukovskiy,Zhumadian,Zhuozhou,Zhuzhou,Zhytomyr,Zielona Gora,Zigong,Ziguinchor,Zinder,Zlatoust,Zoetermeer,Zonguldak,Zouxian,Zunyi,Zurich,Zuwarah,Zwolle,Århus,Çorlu,Çorum,Öskemen,Ürümqi\n"
     ]
    }
   ],
   "source": [
    "#ALT: print(*uniqueCity, sep=',')\n",
    "sortedCities = sorted(cities_name_list)\n",
    "print(*sortedCities, sep=',')"
   ]
  },
  {
   "cell_type": "markdown",
   "id": "32f88dc8",
   "metadata": {},
   "source": [
    "### Statistics\n",
    "- First look\n",
    "- Simple linear regression"
   ]
  },
  {
   "cell_type": "code",
   "execution_count": 14,
   "id": "2d0ad1d4",
   "metadata": {
    "ExecuteTime": {
     "end_time": "2022-02-10T16:56:27.449009Z",
     "start_time": "2022-02-10T16:56:27.050417Z"
    }
   },
   "outputs": [],
   "source": [
    "from scipy import stats\n",
    "import seaborn as sns"
   ]
  },
  {
   "cell_type": "code",
   "execution_count": 15,
   "id": "ec50c54a",
   "metadata": {
    "ExecuteTime": {
     "end_time": "2022-02-10T16:56:28.187467Z",
     "start_time": "2022-02-10T16:56:28.183972Z"
    }
   },
   "outputs": [],
   "source": [
    "# Set precision of describe method output\n",
    "pd.set_option('precision',2)"
   ]
  },
  {
   "cell_type": "code",
   "execution_count": 16,
   "id": "20431933",
   "metadata": {
    "ExecuteTime": {
     "end_time": "2022-02-10T16:56:30.957653Z",
     "start_time": "2022-02-10T16:56:30.950205Z"
    }
   },
   "outputs": [],
   "source": [
    "#Function for City selection\n",
    "class CityStats(object):\n",
    "\n",
    "    def __init__(self, city_name, dataframe):\n",
    "        self.city_name = city_name\n",
    "        self.dataframe = dataframe\n",
    "\n",
    "    def check_city(self,list_of_cities):\n",
    "        if self.city_name not in list_of_cities:\n",
    "            citynotfound = \"City is not in the list. Please select new one before go ahead!\"\n",
    "            return citynotfound\n",
    "        \n",
    "    #use this to return the selected city\n",
    "    def get_cityName(self):\n",
    "        city = self.city_name\n",
    "        return city\n",
    "    \n",
    "    #use this to create a subDataframe filtered by city\n",
    "    def create_dfByCity(self):\n",
    "        df = self.dataframe.loc[self.dataframe['City'] == self.city_name]\n",
    "        return df\n",
    "        \n",
    "    #use this to clear dataframe before select a new city\n",
    "    def clear_df(self, dataframe):\n",
    "        del dataframe\n",
    "        return print(\"Dataframe deleted\")\n",
    "    "
   ]
  },
  {
   "cell_type": "code",
   "execution_count": 17,
   "id": "68fb623c",
   "metadata": {
    "ExecuteTime": {
     "end_time": "2022-02-10T16:56:33.085258Z",
     "start_time": "2022-02-10T16:56:33.081877Z"
    }
   },
   "outputs": [],
   "source": [
    "#Select city for the first analysis\n",
    "#Use CityStats() function to create dataframe based on user input (the city name)\n",
    "#Check if user input exist\n",
    "stat_Df = CityStats(city_name = 'Shanghai',dataframe = df)\n",
    "stat_Df.check_city(cities_name_list)"
   ]
  },
  {
   "cell_type": "code",
   "execution_count": 18,
   "id": "9ca00b75",
   "metadata": {
    "ExecuteTime": {
     "end_time": "2022-02-10T16:56:35.253585Z",
     "start_time": "2022-02-10T16:56:34.833765Z"
    }
   },
   "outputs": [],
   "source": [
    "df_byCityName = stat_Df.create_dfByCity()"
   ]
  },
  {
   "cell_type": "code",
   "execution_count": 19,
   "id": "8e0efa30",
   "metadata": {
    "ExecuteTime": {
     "end_time": "2022-02-10T16:56:36.005108Z",
     "start_time": "2022-02-10T16:56:35.984027Z"
    }
   },
   "outputs": [
    {
     "data": {
      "text/html": [
       "<div>\n",
       "<style scoped>\n",
       "    .dataframe tbody tr th:only-of-type {\n",
       "        vertical-align: middle;\n",
       "    }\n",
       "\n",
       "    .dataframe tbody tr th {\n",
       "        vertical-align: top;\n",
       "    }\n",
       "\n",
       "    .dataframe thead th {\n",
       "        text-align: right;\n",
       "    }\n",
       "</style>\n",
       "<table border=\"1\" class=\"dataframe\">\n",
       "  <thead>\n",
       "    <tr style=\"text-align: right;\">\n",
       "      <th></th>\n",
       "      <th>dt</th>\n",
       "      <th>AverageTemperature</th>\n",
       "      <th>AverageTemperatureUncertainty</th>\n",
       "      <th>City</th>\n",
       "      <th>Country</th>\n",
       "      <th>Latitude</th>\n",
       "      <th>Longitude</th>\n",
       "    </tr>\n",
       "  </thead>\n",
       "  <tbody>\n",
       "    <tr>\n",
       "      <th>6907161</th>\n",
       "      <td>2012</td>\n",
       "      <td>23.22</td>\n",
       "      <td>0.42</td>\n",
       "      <td>Shanghai</td>\n",
       "      <td>China</td>\n",
       "      <td>31.35N</td>\n",
       "      <td>120.63E</td>\n",
       "    </tr>\n",
       "    <tr>\n",
       "      <th>6907162</th>\n",
       "      <td>2012</td>\n",
       "      <td>18.98</td>\n",
       "      <td>0.46</td>\n",
       "      <td>Shanghai</td>\n",
       "      <td>China</td>\n",
       "      <td>31.35N</td>\n",
       "      <td>120.63E</td>\n",
       "    </tr>\n",
       "    <tr>\n",
       "      <th>6907163</th>\n",
       "      <td>2012</td>\n",
       "      <td>11.53</td>\n",
       "      <td>0.38</td>\n",
       "      <td>Shanghai</td>\n",
       "      <td>China</td>\n",
       "      <td>31.35N</td>\n",
       "      <td>120.63E</td>\n",
       "    </tr>\n",
       "    <tr>\n",
       "      <th>6907164</th>\n",
       "      <td>2012</td>\n",
       "      <td>5.17</td>\n",
       "      <td>0.60</td>\n",
       "      <td>Shanghai</td>\n",
       "      <td>China</td>\n",
       "      <td>31.35N</td>\n",
       "      <td>120.63E</td>\n",
       "    </tr>\n",
       "    <tr>\n",
       "      <th>6907165</th>\n",
       "      <td>2013</td>\n",
       "      <td>3.68</td>\n",
       "      <td>0.37</td>\n",
       "      <td>Shanghai</td>\n",
       "      <td>China</td>\n",
       "      <td>31.35N</td>\n",
       "      <td>120.63E</td>\n",
       "    </tr>\n",
       "    <tr>\n",
       "      <th>6907166</th>\n",
       "      <td>2013</td>\n",
       "      <td>6.13</td>\n",
       "      <td>0.38</td>\n",
       "      <td>Shanghai</td>\n",
       "      <td>China</td>\n",
       "      <td>31.35N</td>\n",
       "      <td>120.63E</td>\n",
       "    </tr>\n",
       "    <tr>\n",
       "      <th>6907167</th>\n",
       "      <td>2013</td>\n",
       "      <td>10.94</td>\n",
       "      <td>0.30</td>\n",
       "      <td>Shanghai</td>\n",
       "      <td>China</td>\n",
       "      <td>31.35N</td>\n",
       "      <td>120.63E</td>\n",
       "    </tr>\n",
       "    <tr>\n",
       "      <th>6907168</th>\n",
       "      <td>2013</td>\n",
       "      <td>15.08</td>\n",
       "      <td>0.39</td>\n",
       "      <td>Shanghai</td>\n",
       "      <td>China</td>\n",
       "      <td>31.35N</td>\n",
       "      <td>120.63E</td>\n",
       "    </tr>\n",
       "    <tr>\n",
       "      <th>6907169</th>\n",
       "      <td>2013</td>\n",
       "      <td>21.29</td>\n",
       "      <td>0.27</td>\n",
       "      <td>Shanghai</td>\n",
       "      <td>China</td>\n",
       "      <td>31.35N</td>\n",
       "      <td>120.63E</td>\n",
       "    </tr>\n",
       "    <tr>\n",
       "      <th>6907170</th>\n",
       "      <td>2013</td>\n",
       "      <td>24.64</td>\n",
       "      <td>1.03</td>\n",
       "      <td>Shanghai</td>\n",
       "      <td>China</td>\n",
       "      <td>31.35N</td>\n",
       "      <td>120.63E</td>\n",
       "    </tr>\n",
       "    <tr>\n",
       "      <th>6907171</th>\n",
       "      <td>2013</td>\n",
       "      <td>30.62</td>\n",
       "      <td>1.37</td>\n",
       "      <td>Shanghai</td>\n",
       "      <td>China</td>\n",
       "      <td>31.35N</td>\n",
       "      <td>120.63E</td>\n",
       "    </tr>\n",
       "    <tr>\n",
       "      <th>6907172</th>\n",
       "      <td>2013</td>\n",
       "      <td>30.49</td>\n",
       "      <td>0.60</td>\n",
       "      <td>Shanghai</td>\n",
       "      <td>China</td>\n",
       "      <td>31.35N</td>\n",
       "      <td>120.63E</td>\n",
       "    </tr>\n",
       "  </tbody>\n",
       "</table>\n",
       "</div>"
      ],
      "text/plain": [
       "           dt  AverageTemperature  AverageTemperatureUncertainty      City  \\\n",
       "6907161  2012               23.22                           0.42  Shanghai   \n",
       "6907162  2012               18.98                           0.46  Shanghai   \n",
       "6907163  2012               11.53                           0.38  Shanghai   \n",
       "6907164  2012                5.17                           0.60  Shanghai   \n",
       "6907165  2013                3.68                           0.37  Shanghai   \n",
       "6907166  2013                6.13                           0.38  Shanghai   \n",
       "6907167  2013               10.94                           0.30  Shanghai   \n",
       "6907168  2013               15.08                           0.39  Shanghai   \n",
       "6907169  2013               21.29                           0.27  Shanghai   \n",
       "6907170  2013               24.64                           1.03  Shanghai   \n",
       "6907171  2013               30.62                           1.37  Shanghai   \n",
       "6907172  2013               30.49                           0.60  Shanghai   \n",
       "\n",
       "        Country Latitude Longitude  \n",
       "6907161   China   31.35N   120.63E  \n",
       "6907162   China   31.35N   120.63E  \n",
       "6907163   China   31.35N   120.63E  \n",
       "6907164   China   31.35N   120.63E  \n",
       "6907165   China   31.35N   120.63E  \n",
       "6907166   China   31.35N   120.63E  \n",
       "6907167   China   31.35N   120.63E  \n",
       "6907168   China   31.35N   120.63E  \n",
       "6907169   China   31.35N   120.63E  \n",
       "6907170   China   31.35N   120.63E  \n",
       "6907171   China   31.35N   120.63E  \n",
       "6907172   China   31.35N   120.63E  "
      ]
     },
     "execution_count": 19,
     "metadata": {},
     "output_type": "execute_result"
    }
   ],
   "source": [
    "df_byCityName.tail(12)"
   ]
  },
  {
   "cell_type": "code",
   "execution_count": 20,
   "id": "454c9bec",
   "metadata": {
    "ExecuteTime": {
     "end_time": "2022-02-10T16:56:56.962272Z",
     "start_time": "2022-02-10T16:56:56.950453Z"
    }
   },
   "outputs": [
    {
     "data": {
      "text/plain": [
       "count    2072.00\n",
       "mean       15.97\n",
       "std         8.74\n",
       "min        -0.05\n",
       "25%         7.74\n",
       "50%        16.43\n",
       "75%        23.94\n",
       "max        30.86\n",
       "Name: AverageTemperature, dtype: float64"
      ]
     },
     "execution_count": 20,
     "metadata": {},
     "output_type": "execute_result"
    }
   ],
   "source": [
    "# Look observation (count) , mean, min , max\n",
    "df_byCityName.AverageTemperature.describe()"
   ]
  },
  {
   "cell_type": "code",
   "execution_count": 21,
   "id": "d1b5cef0",
   "metadata": {
    "ExecuteTime": {
     "end_time": "2022-02-10T16:57:00.703285Z",
     "start_time": "2022-02-10T16:57:00.700083Z"
    }
   },
   "outputs": [],
   "source": [
    "#Use scypy library for linear regression analysis\n",
    "#Use seaborn for graph analysis\n",
    "from scipy import stats\n",
    "import seaborn as sns"
   ]
  },
  {
   "cell_type": "code",
   "execution_count": 22,
   "id": "19c39e94",
   "metadata": {
    "ExecuteTime": {
     "end_time": "2022-02-10T16:57:02.124416Z",
     "start_time": "2022-02-10T16:57:02.117238Z"
    }
   },
   "outputs": [],
   "source": [
    "# x axis is Date as indipendent variable \n",
    "# y axis is Avg Temp as dependent variable\n",
    "# Object return regression line with slope and intercept\n",
    "linear_regression = stats.linregress(x= df_byCityName.dt, y= df_byCityName.AverageTemperature)"
   ]
  },
  {
   "cell_type": "code",
   "execution_count": 23,
   "id": "6e194aaf",
   "metadata": {
    "ExecuteTime": {
     "end_time": "2022-02-10T16:57:02.720824Z",
     "start_time": "2022-02-10T16:57:02.716332Z"
    }
   },
   "outputs": [
    {
     "data": {
      "text/plain": [
       "0.008069279061409276"
      ]
     },
     "execution_count": 23,
     "metadata": {},
     "output_type": "execute_result"
    }
   ],
   "source": [
    "# slope\n",
    "linear_regression.slope"
   ]
  },
  {
   "cell_type": "code",
   "execution_count": 24,
   "id": "5cb944dc",
   "metadata": {
    "ExecuteTime": {
     "end_time": "2022-02-10T16:57:04.637287Z",
     "start_time": "2022-02-10T16:57:04.632567Z"
    }
   },
   "outputs": [
    {
     "data": {
      "text/plain": [
       "0.42135051893320963"
      ]
     },
     "execution_count": 24,
     "metadata": {},
     "output_type": "execute_result"
    }
   ],
   "source": [
    "# intercept\n",
    "linear_regression.intercept"
   ]
  },
  {
   "cell_type": "code",
   "execution_count": 25,
   "id": "367925d1",
   "metadata": {
    "ExecuteTime": {
     "end_time": "2022-02-10T16:57:06.655716Z",
     "start_time": "2022-02-10T16:57:06.650519Z"
    }
   },
   "outputs": [
    {
     "data": {
      "text/plain": [
       "16.80198701359404"
      ]
     },
     "execution_count": 25,
     "metadata": {},
     "output_type": "execute_result"
    }
   ],
   "source": [
    "# Try a prediction using y= mx + b\n",
    "# slope = m\n",
    "# year value for which we want to predict temp = x\n",
    "# intercept = b\n",
    "linear_regression.slope * 2030 + linear_regression.intercept"
   ]
  },
  {
   "cell_type": "code",
   "execution_count": 26,
   "id": "c8b48701",
   "metadata": {
    "ExecuteTime": {
     "end_time": "2022-02-10T16:57:08.907679Z",
     "start_time": "2022-02-10T16:57:08.449999Z"
    }
   },
   "outputs": [
    {
     "data": {
      "text/plain": [
       "Text(0.5, 1.1, 'Shanghai')"
      ]
     },
     "execution_count": 26,
     "metadata": {},
     "output_type": "execute_result"
    },
    {
     "data": {
      "image/png": "[encoded data removed]",
      "text/plain": [
       "<Figure size 432x432 with 3 Axes>"
      ]
     },
     "metadata": {},
     "output_type": "display_data"
    }
   ],
   "source": [
    "#Show data in graph and linear regression(cyan color)\n",
    "sns.set_style('whitegrid')\n",
    "axes = sns.jointplot(x= df_byCityName.dt, y= df_byCityName.AverageTemperature,kind='reg', joint_kws={'line_kws':{'color':'cyan'}})\n",
    "axes.fig.suptitle(stat_Df.city_name,y=1.1,fontsize=30)"
   ]
  },
  {
   "cell_type": "code",
   "execution_count": 27,
   "id": "436b7279",
   "metadata": {
    "ExecuteTime": {
     "end_time": "2022-02-10T16:57:11.242841Z",
     "start_time": "2022-02-10T16:57:11.099040Z"
    }
   },
   "outputs": [
    {
     "data": {
      "text/plain": [
       "Text(0.5, 1.1, 'Shanghai')"
      ]
     },
     "execution_count": 27,
     "metadata": {},
     "output_type": "execute_result"
    },
    {
     "data": {
      "image/png": "[encoded data removed]",
      "text/plain": [
       "<Figure size 432x288 with 1 Axes>"
      ]
     },
     "metadata": {},
     "output_type": "display_data"
    }
   ],
   "source": [
    "#Other option for graph representation\n",
    "sns.set_style('whitegrid')\n",
    "axes = sns.scatterplot(data= df_byCityName, x= 'dt', y= 'AverageTemperature', hue='AverageTemperature',palette= 'winter',legend=False)\n",
    "axes.set_title(stat_Df.city_name,y=1.1,fontsize=30)\n",
    "\n",
    "#hue specify which column define colors"
   ]
  },
  {
   "cell_type": "code",
   "execution_count": 28,
   "id": "56d08ff7",
   "metadata": {
    "ExecuteTime": {
     "end_time": "2022-02-10T16:57:13.585995Z",
     "start_time": "2022-02-10T16:57:13.582443Z"
    }
   },
   "outputs": [
    {
     "name": "stdout",
     "output_type": "stream",
     "text": [
      "Dataframe deleted\n"
     ]
    }
   ],
   "source": [
    "# Use this command before to select new city for analysis.\n",
    "# Delete variable storing the dataframe in order to select a new city\n",
    "stat_Df.clear_df(df_byCityName)"
   ]
  },
  {
   "cell_type": "markdown",
   "id": "b31c229b",
   "metadata": {
    "ExecuteTime": {
     "end_time": "2022-01-23T13:09:43.574657Z",
     "start_time": "2022-01-23T13:09:43.570184Z"
    }
   },
   "source": [
    "### Geopandas"
   ]
  },
  {
   "cell_type": "code",
   "execution_count": 29,
   "id": "10b37439",
   "metadata": {
    "ExecuteTime": {
     "end_time": "2022-02-10T16:57:21.944097Z",
     "start_time": "2022-02-10T16:57:21.580015Z"
    }
   },
   "outputs": [],
   "source": [
    "#Geospatial analysis on dataset\n",
    "from geopy.geocoders import Nominatim\n",
    "geolocator = Nominatim(user_agent=\"Peter\")\n",
    "location = lambda x: geolocator.geocode(x)\n",
    "from tqdm.notebook import tqdm\n",
    "import matplotlib.pyplot as plt\n",
    "import geopandas"
   ]
  },
  {
   "cell_type": "code",
   "execution_count": 30,
   "id": "18512b7e",
   "metadata": {
    "ExecuteTime": {
     "end_time": "2022-02-10T16:57:31.900766Z",
     "start_time": "2022-02-10T16:57:23.582238Z"
    }
   },
   "outputs": [
    {
     "data": {
      "application/vnd.jupyter.widget-view+json": {
       "model_id": "ca211dbc877247a18301d88d68a9b378",
       "version_major": 2,
       "version_minor": 0
      },
      "text/plain": [
       "0it [00:00, ?it/s]"
      ]
     },
     "metadata": {},
     "output_type": "display_data"
    }
   ],
   "source": [
    "#Create dictionary to store information for each city in the \"cities_name_list\" array \n",
    "#Use location() function to retrive city geolocalization data\n",
    "#last 2 rows of code in this notebook section can be modified in order to speed up execution \n",
    "#(just remove if for whole execution or change iteration number)\n",
    "location_map = {}\n",
    "for i, name in tqdm(enumerate(cities_name_list)):\n",
    "    loc = location(name)\n",
    "    try: \n",
    "        df_By_city = df.loc[df['City'] == name]\n",
    "        maxTemp = df_By_city.AverageTemperature.max()\n",
    "        minTemp = df_By_city.AverageTemperature.min()\n",
    "        escTemp = maxTemp - minTemp\n",
    "        location_map[name] = (loc[0], loc.longitude, loc.latitude, escTemp)\n",
    "    except TypeError:\n",
    "        pass\n",
    "    if i > 10:\n",
    "        break"
   ]
  },
  {
   "cell_type": "code",
   "execution_count": 31,
   "id": "0c05cbf3",
   "metadata": {
    "ExecuteTime": {
     "end_time": "2022-02-10T16:57:34.759807Z",
     "start_time": "2022-02-10T16:57:34.747451Z"
    }
   },
   "outputs": [
    {
     "data": {
      "text/plain": [
       "{'Colatina': ('Colatina, Região Geográfica Imediata de Colatina, Região Geográfica Intermediária de Colatina, Espírito Santo, Região Sudeste, Brasil',\n",
       "  -40.6287836,\n",
       "  -19.5346732,\n",
       "  10.32),\n",
       " 'Chita': ('Чита, городской округ Чита, Забайкальский край, Дальневосточный федеральный округ, 672000, Россия',\n",
       "  113.500893,\n",
       "  52.033409,\n",
       "  53.34700000000001),\n",
       " 'Campinas': ('Campinas, Região Imediata de Campinas, Região Metropolitana de Campinas, Região Geográfica Intermediária de Campinas, São Paulo, Região Sudeste, Brasil',\n",
       "  -47.06083,\n",
       "  -22.90556,\n",
       "  11.679),\n",
       " 'Munger': ('Munger, Bihar, India',\n",
       "  86.51720367235285,\n",
       "  25.22081165,\n",
       "  19.519000000000005),\n",
       " 'Pasuruan': ('Pasuruan, Jawa Timur, Indonesia',\n",
       "  112.906694,\n",
       "  -7.6419894,\n",
       "  4.9460000000000015),\n",
       " 'San Francisco De Macorís': ('San Francisco de Macorís, Duarte, República Dominicana',\n",
       "  -70.2533206,\n",
       "  19.2972812,\n",
       "  8.081),\n",
       " 'Erfurt': ('Erfurt, Thüringen, Deutschland', 11.0287364, 50.9777974, 33.066),\n",
       " 'Abakaliki': ('Abakaliki, Ebonyi, Nigeria',\n",
       "  8.1133202,\n",
       "  6.3208897,\n",
       "  6.578000000000003),\n",
       " 'Montreal': ('Montréal, Agglomération de Montréal, Montréal (06), Québec, H3B 1M7, Canada',\n",
       "  -73.5698065,\n",
       "  45.5031824,\n",
       "  44.527),\n",
       " 'Mangaluru': ('Mangaluru, Mangaluru taluk, Dakshina Kannada, Karnataka, 575001, India',\n",
       "  74.8430082,\n",
       "  12.8698101,\n",
       "  8.719000000000001),\n",
       " 'Piura': ('Piura, Perú', -80.333333, -5.0, 9.997),\n",
       " 'Barsi': ('Barsi, Pusad, Yavatmal, Maharashtra, India',\n",
       "  77.5381565,\n",
       "  19.9937061,\n",
       "  15.718000000000004)}"
      ]
     },
     "execution_count": 31,
     "metadata": {},
     "output_type": "execute_result"
    }
   ],
   "source": [
    "location_map"
   ]
  },
  {
   "cell_type": "code",
   "execution_count": 32,
   "id": "26c878d8",
   "metadata": {
    "ExecuteTime": {
     "end_time": "2022-02-10T16:57:38.352405Z",
     "start_time": "2022-02-10T16:57:38.348012Z"
    }
   },
   "outputs": [],
   "source": [
    "#Create and fill array with information to show in world graph\n",
    "# Longitude, Latitude, Temp Excursion\n",
    "info_list = []\n",
    "for k, (name,lon, lat, esc) in location_map.items():\n",
    "    info_list.append((lon, lat, esc))\n",
    "    #info_list.append((lon, lat))\n",
    "X = np.array(info_list)"
   ]
  },
  {
   "cell_type": "code",
   "execution_count": 33,
   "id": "597f0d31",
   "metadata": {
    "ExecuteTime": {
     "end_time": "2022-02-10T16:57:40.040094Z",
     "start_time": "2022-02-10T16:57:40.031642Z"
    }
   },
   "outputs": [
    {
     "data": {
      "text/plain": [
       "array([[-40.6287836 , -19.5346732 ,  10.32      ],\n",
       "       [113.500893  ,  52.033409  ,  53.347     ],\n",
       "       [-47.06083   , -22.90556   ,  11.679     ],\n",
       "       [ 86.51720367,  25.22081165,  19.519     ],\n",
       "       [112.906694  ,  -7.6419894 ,   4.946     ],\n",
       "       [-70.2533206 ,  19.2972812 ,   8.081     ],\n",
       "       [ 11.0287364 ,  50.9777974 ,  33.066     ],\n",
       "       [  8.1133202 ,   6.3208897 ,   6.578     ],\n",
       "       [-73.5698065 ,  45.5031824 ,  44.527     ],\n",
       "       [ 74.8430082 ,  12.8698101 ,   8.719     ],\n",
       "       [-80.333333  ,  -5.        ,   9.997     ],\n",
       "       [ 77.5381565 ,  19.9937061 ,  15.718     ]])"
      ]
     },
     "execution_count": 33,
     "metadata": {},
     "output_type": "execute_result"
    }
   ],
   "source": [
    "X"
   ]
  },
  {
   "cell_type": "code",
   "execution_count": 34,
   "id": "93d0c9da",
   "metadata": {
    "ExecuteTime": {
     "end_time": "2022-02-10T16:57:41.959410Z",
     "start_time": "2022-02-10T16:57:41.864605Z"
    }
   },
   "outputs": [],
   "source": [
    "# World imange object\n",
    "world = geopandas.read_file(geopandas.datasets.get_path('naturalearth_lowres'))"
   ]
  },
  {
   "cell_type": "code",
   "execution_count": 35,
   "id": "3d666613",
   "metadata": {
    "ExecuteTime": {
     "end_time": "2022-02-10T16:57:44.504201Z",
     "start_time": "2022-02-10T16:57:44.281344Z"
    }
   },
   "outputs": [
    {
     "data": {
      "image/png": "[encoded data removed]",
      "text/plain": [
       "<Figure size 1440x1440 with 1 Axes>"
      ]
     },
     "metadata": {},
     "output_type": "display_data"
    }
   ],
   "source": [
    "# Plot temp excursion data\n",
    "ax = world.plot(figsize=(20 ,20), alpha= 0.5, edgecolor='g',legend=True)\n",
    "ax.scatter(X[:,0], X[:,1], c = X[:,2]> 25,cmap = 'coolwarm', s= X[:,2])\n",
    "plt.show()"
   ]
  },
  {
   "cell_type": "markdown",
   "id": "d518b834",
   "metadata": {
    "ExecuteTime": {
     "end_time": "2022-01-26T16:55:14.412535Z",
     "start_time": "2022-01-26T16:55:14.409555Z"
    }
   },
   "source": [
    "## Avarage world TEMPERATURE"
   ]
  },
  {
   "cell_type": "code",
   "execution_count": 36,
   "id": "093b43d7",
   "metadata": {
    "ExecuteTime": {
     "end_time": "2022-02-10T16:57:51.903010Z",
     "start_time": "2022-02-10T16:57:51.748059Z"
    }
   },
   "outputs": [],
   "source": [
    "#Earth mean temperature 1743-2013\n",
    "#Collect objects for time series analysis\n",
    "years = np.unique(df['dt'])\n",
    "mean_temp_world = []\n",
    "mean_temp_world_uncertainty = []"
   ]
  },
  {
   "cell_type": "code",
   "execution_count": 37,
   "id": "49a21df8",
   "metadata": {
    "ExecuteTime": {
     "end_time": "2022-02-10T16:57:52.804092Z",
     "start_time": "2022-02-10T16:57:52.798187Z"
    }
   },
   "outputs": [
    {
     "data": {
      "text/plain": [
       "array([1743, 1744, 1745, 1750, 1751, 1752, 1753, 1754, 1755, 1756, 1757,\n",
       "       1758, 1759, 1760, 1761, 1762, 1763, 1764, 1765, 1766, 1767, 1768,\n",
       "       1769, 1770, 1771, 1772, 1773, 1774, 1775, 1776, 1777, 1778, 1779,\n",
       "       1780, 1781, 1782, 1783, 1784, 1785, 1786, 1787, 1788, 1789, 1790,\n",
       "       1791, 1792, 1793, 1794, 1795, 1796, 1797, 1798, 1799, 1800, 1801,\n",
       "       1802, 1803, 1804, 1805, 1806, 1807, 1808, 1809, 1810, 1811, 1812,\n",
       "       1813, 1814, 1815, 1816, 1817, 1818, 1819, 1820, 1821, 1822, 1823,\n",
       "       1824, 1825, 1826, 1827, 1828, 1829, 1830, 1831, 1832, 1833, 1834,\n",
       "       1835, 1836, 1837, 1838, 1839, 1840, 1841, 1842, 1843, 1844, 1845,\n",
       "       1846, 1847, 1848, 1849, 1850, 1851, 1852, 1853, 1854, 1855, 1856,\n",
       "       1857, 1858, 1859, 1860, 1861, 1862, 1863, 1864, 1865, 1866, 1867,\n",
       "       1868, 1869, 1870, 1871, 1872, 1873, 1874, 1875, 1876, 1877, 1878,\n",
       "       1879, 1880, 1881, 1882, 1883, 1884, 1885, 1886, 1887, 1888, 1889,\n",
       "       1890, 1891, 1892, 1893, 1894, 1895, 1896, 1897, 1898, 1899, 1900,\n",
       "       1901, 1902, 1903, 1904, 1905, 1906, 1907, 1908, 1909, 1910, 1911,\n",
       "       1912, 1913, 1914, 1915, 1916, 1917, 1918, 1919, 1920, 1921, 1922,\n",
       "       1923, 1924, 1925, 1926, 1927, 1928, 1929, 1930, 1931, 1932, 1933,\n",
       "       1934, 1935, 1936, 1937, 1938, 1939, 1940, 1941, 1942, 1943, 1944,\n",
       "       1945, 1946, 1947, 1948, 1949, 1950, 1951, 1952, 1953, 1954, 1955,\n",
       "       1956, 1957, 1958, 1959, 1960, 1961, 1962, 1963, 1964, 1965, 1966,\n",
       "       1967, 1968, 1969, 1970, 1971, 1972, 1973, 1974, 1975, 1976, 1977,\n",
       "       1978, 1979, 1980, 1981, 1982, 1983, 1984, 1985, 1986, 1987, 1988,\n",
       "       1989, 1990, 1991, 1992, 1993, 1994, 1995, 1996, 1997, 1998, 1999,\n",
       "       2000, 2001, 2002, 2003, 2004, 2005, 2006, 2007, 2008, 2009, 2010,\n",
       "       2011, 2012, 2013])"
      ]
     },
     "execution_count": 37,
     "metadata": {},
     "output_type": "execute_result"
    }
   ],
   "source": [
    "years"
   ]
  },
  {
   "cell_type": "code",
   "execution_count": 38,
   "id": "a4e21048",
   "metadata": {
    "ExecuteTime": {
     "end_time": "2022-02-10T16:57:55.703752Z",
     "start_time": "2022-02-10T16:57:55.615420Z"
    }
   },
   "outputs": [
    {
     "data": {
      "text/html": [
       "        <script type=\"text/javascript\">\n",
       "        window.PlotlyConfig = {MathJaxConfig: 'local'};\n",
       "        if (window.MathJax) {MathJax.Hub.Config({SVG: {font: \"STIX-Web\"}});}\n",
       "        if (typeof require !== 'undefined') {\n",
       "        require.undef(\"plotly\");\n",
       "        requirejs.config({\n",
       "            paths: {\n",
       "                'plotly': ['https://cdn.plot.ly/plotly-2.2.0.min']\n",
       "            }\n",
       "        });\n",
       "        require(['plotly'], function(Plotly) {\n",
       "            window._Plotly = Plotly;\n",
       "        });\n",
       "        }\n",
       "        </script>\n",
       "        "
      ]
     },
     "metadata": {},
     "output_type": "display_data"
    }
   ],
   "source": [
    "#Show graph for time series\n",
    "import plotly.offline as py\n",
    "py.init_notebook_mode(connected=True)\n",
    "import plotly.graph_objs as go\n",
    "import plotly.tools as tls"
   ]
  },
  {
   "cell_type": "code",
   "execution_count": 39,
   "id": "0671d6b8",
   "metadata": {
    "ExecuteTime": {
     "end_time": "2022-02-10T16:58:01.465815Z",
     "start_time": "2022-02-10T16:57:57.566077Z"
    }
   },
   "outputs": [
    {
     "data": {
      "application/vnd.plotly.v1+json": {
       "config": {
        "linkText": "Export to plot.ly",
        "plotlyServerURL": "https://plot.ly",
        "showLink": false
       },
       "data": [
        {
         "line": {
          "color": "rgb(0, 220, 255)"
         },
         "mode": "lines",
         "name": "Uncertainty top",
         "type": "scatter",
         "x": [
          1743,
          1744,
          1745,
          1750,
          1751,
          1752,
          1753,
          1754,
          1755,
          1756,
          1757,
          1758,
          1759,
          1760,
          1761,
          1762,
          1763,
          1764,
          1765,
          1766,
          1767,
          1768,
          1769,
          1770,
          1771,
          1772,
          1773,
          1774,
          1775,
          1776,
          1777,
          1778,
          1779,
          1780,
          1781,
          1782,
          1783,
          1784,
          1785,
          1786,
          1787,
          1788,
          1789,
          1790,
          1791,
          1792,
          1793,
          1794,
          1795,
          1796,
          1797,
          1798,
          1799,
          1800,
          1801,
          1802,
          1803,
          1804,
          1805,
          1806,
          1807,
          1808,
          1809,
          1810,
          1811,
          1812,
          1813,
          1814,
          1815,
          1816,
          1817,
          1818,
          1819,
          1820,
          1821,
          1822,
          1823,
          1824,
          1825,
          1826,
          1827,
          1828,
          1829,
          1830,
          1831,
          1832,
          1833,
          1834,
          1835,
          1836,
          1837,
          1838,
          1839,
          1840,
          1841,
          1842,
          1843,
          1844,
          1845,
          1846,
          1847,
          1848,
          1849,
          1850,
          1851,
          1852,
          1853,
          1854,
          1855,
          1856,
          1857,
          1858,
          1859,
          1860,
          1861,
          1862,
          1863,
          1864,
          1865,
          1866,
          1867,
          1868,
          1869,
          1870,
          1871,
          1872,
          1873,
          1874,
          1875,
          1876,
          1877,
          1878,
          1879,
          1880,
          1881,
          1882,
          1883,
          1884,
          1885,
          1886,
          1887,
          1888,
          1889,
          1890,
          1891,
          1892,
          1893,
          1894,
          1895,
          1896,
          1897,
          1898,
          1899,
          1900,
          1901,
          1902,
          1903,
          1904,
          1905,
          1906,
          1907,
          1908,
          1909,
          1910,
          1911,
          1912,
          1913,
          1914,
          1915,
          1916,
          1917,
          1918,
          1919,
          1920,
          1921,
          1922,
          1923,
          1924,
          1925,
          1926,
          1927,
          1928,
          1929,
          1930,
          1931,
          1932,
          1933,
          1934,
          1935,
          1936,
          1937,
          1938,
          1939,
          1940,
          1941,
          1942,
          1943,
          1944,
          1945,
          1946,
          1947,
          1948,
          1949,
          1950,
          1951,
          1952,
          1953,
          1954,
          1955,
          1956,
          1957,
          1958,
          1959,
          1960,
          1961,
          1962,
          1963,
          1964,
          1965,
          1966,
          1967,
          1968,
          1969,
          1970,
          1971,
          1972,
          1973,
          1974,
          1975,
          1976,
          1977,
          1978,
          1979,
          1980,
          1981,
          1982,
          1983,
          1984,
          1985,
          1986,
          1987,
          1988,
          1989,
          1990,
          1991,
          1992,
          1993,
          1994,
          1995,
          1996,
          1997,
          1998,
          1999,
          2000,
          2001,
          2002,
          2003,
          2004,
          2005,
          2006,
          2007,
          2008,
          2009,
          2010,
          2011,
          2012,
          2013
         ],
         "y": [
          6.836325779036826,
          12.578337995750696,
          3.3416058781869724,
          11.66521364307775,
          11.779750738552467,
          6.23013896917148,
          13.010562694185523,
          12.561699538638965,
          13.028929156242814,
          13.808156530753266,
          14.717780246913538,
          14.118714624932561,
          14.959352374839506,
          13.29372955130354,
          13.437145143114716,
          13.909112671232812,
          12.58838008270165,
          13.680677441779643,
          12.663923700202579,
          13.381722888888907,
          13.835431183398763,
          13.878347867803827,
          13.791157179542019,
          14.81902168803423,
          13.877649786324763,
          14.324013722886253,
          13.120307576247523,
          14.499235098235046,
          13.814816330814423,
          12.986905916275116,
          12.301935756551135,
          12.920731952930474,
          13.792149651309044,
          12.697716400780477,
          13.783162450871837,
          13.366353616764094,
          13.255710988562015,
          13.935744364055758,
          12.520563476662149,
          13.108757456670714,
          14.174541619391423,
          12.931923767711044,
          12.834472164540651,
          13.286346430036899,
          13.1548779703935,
          12.671619467312356,
          13.918014075887468,
          14.21027741607329,
          13.526927076859371,
          18.0644109782318,
          18.27957171314734,
          17.554496595261675,
          17.24795679012333,
          17.774819567553045,
          17.112579425221696,
          18.119819216267132,
          17.64996789144885,
          18.43212449772294,
          17.12433279319426,
          17.72768901944904,
          16.93754382070744,
          11.883733472928524,
          12.495446494117669,
          12.767261115831243,
          13.559176127819573,
          11.609279749478048,
          17.197723826827897,
          16.588047342246355,
          16.93147576869539,
          17.355838883621697,
          17.320616319944698,
          18.264499242512485,
          17.36622607709759,
          16.73213645068617,
          16.813812849162076,
          16.870410547564955,
          16.559633545988802,
          17.409618956710155,
          18.435990269594615,
          17.16623482889719,
          17.409422809317327,
          17.131187932149402,
          16.460677074570505,
          16.55498666253084,
          16.691184655127948,
          16.29306681578075,
          17.12942917090525,
          17.42464233700251,
          16.498188398811017,
          16.86902282582004,
          16.617628617429872,
          16.938945691258418,
          17.184150768991856,
          17.440236496402623,
          17.36545602973389,
          17.254868387400712,
          17.444925833388126,
          16.437320583007452,
          16.742281101866055,
          17.66781502485217,
          17.152206178398824,
          16.818488533960828,
          17.105187448546737,
          17.824690751944757,
          18.244263260220517,
          18.03268502466618,
          17.83358314129448,
          18.233993538986006,
          18.021322836994603,
          18.012172399317635,
          17.5362936450357,
          17.527697298648082,
          17.85371784322215,
          17.35273582356988,
          17.45455401982383,
          15.729289056677011,
          16.682452085223584,
          16.291431265703956,
          17.387608437194892,
          17.610251247003,
          17.681407083576243,
          17.88931359463955,
          17.97059333278941,
          18.038463124588194,
          17.707746462201897,
          18.19590179533691,
          18.271086644254247,
          18.301246824046924,
          17.96257278527232,
          18.307611795409844,
          18.787464658421147,
          18.81197024226477,
          18.11678194300374,
          18.25574475170114,
          18.108507325432672,
          18.07902345949332,
          17.908981138438545,
          17.70532695626818,
          17.666953178673086,
          17.971521277106067,
          17.96101217549983,
          18.023311909171714,
          18.14111281952689,
          18.164697507362806,
          17.969810572582443,
          17.946051093500802,
          17.698315644317532,
          18.089465265906775,
          17.937233689458548,
          18.153790289648576,
          18.284432787274397,
          18.26482578728471,
          18.300816476733125,
          18.399851709401695,
          18.23830016619161,
          18.169802326685534,
          18.096909164292683,
          17.874758095916253,
          17.944719919278356,
          18.072075949667454,
          17.738359283000978,
          17.8413039411208,
          17.87330149572658,
          17.883573694207147,
          17.947805864197566,
          17.900583309591763,
          17.98965037986703,
          18.27481028015167,
          18.238798717948665,
          18.04643053181403,
          17.648444349477558,
          17.9003204653371,
          18.071345536562266,
          18.10997780151956,
          18.249794681861108,
          18.08535144824322,
          18.05278062678071,
          17.966980864197712,
          18.072672388413906,
          18.186278228869867,
          18.09451315289666,
          18.154356386514863,
          17.900852469135664,
          18.204321320037884,
          18.11290693257372,
          18.201041381766295,
          17.901673789173643,
          18.17002879867074,
          18.116144705602853,
          18.109377397910237,
          18.22237158119641,
          18.311418732193633,
          18.251968922127276,
          18.030862203228903,
          18.278371391263192,
          18.111164482431274,
          18.191421581196558,
          18.193767735042794,
          18.075584235517344,
          18.381554629629203,
          18.234294064577544,
          18.334368827160755,
          18.279933048433094,
          18.084884829059934,
          18.262862226970334,
          18.204822697056166,
          18.349511206077455,
          18.076868281102016,
          18.097936253561297,
          17.697605840455722,
          18.282296913580208,
          18.41388663342841,
          18.401909852801705,
          18.280256433998137,
          18.392296153846363,
          18.119746984805552,
          18.113415479582,
          18.022695037986473,
          18.016229320987893,
          18.338617355175675,
          18.117581054130927,
          18.001823836657234,
          18.05138461538443,
          18.12700472459634,
          17.998590384615472,
          18.13651305792975,
          18.329807431149018,
          18.0560136277304,
          18.23009691358022,
          17.864549976258232,
          18.327820868945874,
          18.111991619183254,
          18.29596094491916,
          18.166144088319044,
          18.292249762583143,
          18.300003513770037,
          18.446438865146977,
          18.09653086419731,
          18.115375356125565,
          18.223059971510054,
          18.434252516619033,
          18.452471699904937,
          18.502115503323864,
          18.801023266856564,
          18.437917022792,
          18.37794748338064,
          18.282453846153654,
          18.683116832858612,
          18.658537701804335,
          18.24021569325711,
          18.583919539411124,
          19.012837654320997,
          18.808202041785478,
          18.724763342830293,
          18.808511514719413,
          19.013952896486067,
          18.85484114434937,
          18.83959869420689,
          18.78350059354244,
          18.96813741690419,
          19.03010508072183,
          18.783801851851706,
          18.947499358974337,
          18.906899074073873,
          18.756865265907035,
          18.98998665717011,
          19.61553043478282
         ]
        },
        {
         "fill": "tonexty",
         "line": {
          "color": "rgb(0, 220, 255)"
         },
         "mode": "lines",
         "name": "Uncertainty bot",
         "type": "scatter",
         "x": [
          1743,
          1744,
          1745,
          1750,
          1751,
          1752,
          1753,
          1754,
          1755,
          1756,
          1757,
          1758,
          1759,
          1760,
          1761,
          1762,
          1763,
          1764,
          1765,
          1766,
          1767,
          1768,
          1769,
          1770,
          1771,
          1772,
          1773,
          1774,
          1775,
          1776,
          1777,
          1778,
          1779,
          1780,
          1781,
          1782,
          1783,
          1784,
          1785,
          1786,
          1787,
          1788,
          1789,
          1790,
          1791,
          1792,
          1793,
          1794,
          1795,
          1796,
          1797,
          1798,
          1799,
          1800,
          1801,
          1802,
          1803,
          1804,
          1805,
          1806,
          1807,
          1808,
          1809,
          1810,
          1811,
          1812,
          1813,
          1814,
          1815,
          1816,
          1817,
          1818,
          1819,
          1820,
          1821,
          1822,
          1823,
          1824,
          1825,
          1826,
          1827,
          1828,
          1829,
          1830,
          1831,
          1832,
          1833,
          1834,
          1835,
          1836,
          1837,
          1838,
          1839,
          1840,
          1841,
          1842,
          1843,
          1844,
          1845,
          1846,
          1847,
          1848,
          1849,
          1850,
          1851,
          1852,
          1853,
          1854,
          1855,
          1856,
          1857,
          1858,
          1859,
          1860,
          1861,
          1862,
          1863,
          1864,
          1865,
          1866,
          1867,
          1868,
          1869,
          1870,
          1871,
          1872,
          1873,
          1874,
          1875,
          1876,
          1877,
          1878,
          1879,
          1880,
          1881,
          1882,
          1883,
          1884,
          1885,
          1886,
          1887,
          1888,
          1889,
          1890,
          1891,
          1892,
          1893,
          1894,
          1895,
          1896,
          1897,
          1898,
          1899,
          1900,
          1901,
          1902,
          1903,
          1904,
          1905,
          1906,
          1907,
          1908,
          1909,
          1910,
          1911,
          1912,
          1913,
          1914,
          1915,
          1916,
          1917,
          1918,
          1919,
          1920,
          1921,
          1922,
          1923,
          1924,
          1925,
          1926,
          1927,
          1928,
          1929,
          1930,
          1931,
          1932,
          1933,
          1934,
          1935,
          1936,
          1937,
          1938,
          1939,
          1940,
          1941,
          1942,
          1943,
          1944,
          1945,
          1946,
          1947,
          1948,
          1949,
          1950,
          1951,
          1952,
          1953,
          1954,
          1955,
          1956,
          1957,
          1958,
          1959,
          1960,
          1961,
          1962,
          1963,
          1964,
          1965,
          1966,
          1967,
          1968,
          1969,
          1970,
          1971,
          1972,
          1973,
          1974,
          1975,
          1976,
          1977,
          1978,
          1979,
          1980,
          1981,
          1982,
          1983,
          1984,
          1985,
          1986,
          1987,
          1988,
          1989,
          1990,
          1991,
          1992,
          1993,
          1994,
          1995,
          1996,
          1997,
          1998,
          1999,
          2000,
          2001,
          2002,
          2003,
          2004,
          2005,
          2006,
          2007,
          2008,
          2009,
          2010,
          2011,
          2012,
          2013
         ],
         "y": [
          2.9285212464589305,
          8.889755842776191,
          -0.34642032577904325,
          8.080402846783945,
          8.313726735598253,
          2.2759881984585535,
          5.894768863737266,
          6.167700230680443,
          4.621515465089761,
          5.657260193503827,
          4.32103569023569,
          3.1782725310308004,
          4.422738553701256,
          4.30414579836633,
          6.151730673878755,
          4.83637545662097,
          4.9009401562141415,
          5.947646043332181,
          6.109608147647991,
          5.700286222222259,
          4.351922938867078,
          3.830533155650274,
          5.10359907982025,
          4.200801388888899,
          4.999552991453046,
          5.567631695440397,
          6.96647548227189,
          4.576820179820144,
          7.33320528967253,
          5.837630606578405,
          6.163678360101461,
          5.829341140529475,
          5.672665942608917,
          6.240918512567466,
          6.250110752796596,
          4.534049969776409,
          6.282152369280987,
          4.2777475096990765,
          5.100580431008018,
          4.9555760781943,
          5.761206085611119,
          6.489691678307707,
          6.79508207257984,
          6.775762105047123,
          7.6903275223997625,
          7.21145927360776,
          6.198335985312175,
          6.79386561546287,
          5.944274290449604,
          12.211122346143647,
          12.04117401821277,
          11.886899914881496,
          12.169406736446483,
          12.742003156056962,
          12.622837217615151,
          13.389334971720904,
          12.749653254517282,
          12.673723077953294,
          12.57609094591861,
          13.137334886547947,
          12.072546111986249,
          6.597042676238912,
          6.137595952941194,
          5.9980795808553005,
          6.6250616541352905,
          5.9253886720522395,
          11.475434872501728,
          10.538876380546442,
          11.12738770087303,
          11.176466520502482,
          11.93123523310091,
          11.918074932991415,
          12.420096258503495,
          11.964527662517252,
          12.05800588587401,
          12.69917037597779,
          12.138548098658722,
          12.674469583612744,
          14.224736654168856,
          12.849456628643729,
          12.964262781082988,
          12.492977913744202,
          11.481649611559003,
          11.855491625310052,
          10.930710462412812,
          11.256708371008457,
          12.904728001017169,
          13.151807112616405,
          12.652584799550159,
          12.703599198232707,
          12.421865086901043,
          12.400599834676518,
          13.388673994096704,
          13.550713355048861,
          13.658275834605458,
          13.848197166509616,
          14.133838516667776,
          13.332343974404537,
          13.47069400338094,
          14.155543016312311,
          13.544917058473047,
          13.587248453261445,
          13.868863719840506,
          14.559438605589207,
          14.925525835866114,
          14.74273558348885,
          14.929886220396003,
          15.060352606400478,
          14.912094955247936,
          14.894508854781385,
          14.614177992744962,
          14.423374580082893,
          15.044352479428262,
          14.553304589937909,
          14.57221057268729,
          12.579134806701322,
          13.405581641272768,
          13.391500287591152,
          14.47262268106372,
          14.982364731170904,
          14.83876839592531,
          15.150110369623878,
          15.157849879000356,
          15.271739380356179,
          15.068697853648047,
          15.235385642562422,
          15.672172422575384,
          15.773895168550284,
          15.787791798567987,
          15.85963301543961,
          16.05712979514931,
          16.428904277674555,
          15.935906801007388,
          16.09913522513389,
          16.201259177910305,
          16.29192411154696,
          16.101779490761903,
          15.828849575807766,
          15.78096886045731,
          16.158412180963293,
          16.11656530822959,
          16.131074110600526,
          16.35521896021495,
          16.32178320522932,
          16.421608006652317,
          16.33946410128262,
          16.113118402282353,
          16.556253584995083,
          16.475037298195485,
          16.672844705602976,
          16.67734252136748,
          16.69553642305416,
          16.80596258309589,
          16.84517089268755,
          16.700594278252414,
          16.714680769230654,
          16.666648100664943,
          16.521362179487003,
          16.63841412630589,
          16.799213224121385,
          16.542385066476765,
          16.595130436847306,
          16.665400023741782,
          16.685449525166295,
          16.771707763532792,
          16.685021818613624,
          16.84084211775876,
          17.07333288224094,
          17.05747606837601,
          16.85360508072191,
          16.416272697055888,
          16.770587037037007,
          16.86771923076927,
          16.88773881766389,
          17.09445811965787,
          16.97754195156705,
          17.0071061728396,
          16.91448385565069,
          16.99127181861335,
          17.14408900759731,
          17.11017279202298,
          17.150217402659223,
          16.88432307692294,
          17.26124207027531,
          17.15865042735054,
          17.233494563152803,
          16.95513471035123,
          17.220090052232,
          17.178887298195452,
          17.185495726495226,
          17.306761942070086,
          17.39802343304834,
          17.368750213675227,
          17.15014577397916,
          17.36602424026603,
          17.211888698955487,
          17.30753805792969,
          17.267826234567966,
          17.139940408356846,
          17.487312084519996,
          17.346759069325888,
          17.489909900285152,
          17.43866377018049,
          17.273919254511032,
          17.379343755935196,
          17.45502920227934,
          17.604258831908414,
          17.291478632479034,
          17.331506481481522,
          16.912497958214516,
          17.31416348528011,
          17.580974667616438,
          17.603507383665903,
          17.521611324786353,
          17.667572602089482,
          17.334677421652657,
          17.362940455840313,
          17.287350071224836,
          17.231390574549142,
          17.604317307692295,
          17.386962108261987,
          17.276273029439746,
          17.315673076922884,
          17.431375949667554,
          17.308170109211854,
          17.388732526115877,
          17.615293518518452,
          17.35263385565063,
          17.51393950617281,
          17.127991666666595,
          17.648939719848048,
          17.42516426875591,
          17.62764180911669,
          17.513906718898326,
          17.596498860398913,
          17.611395251661776,
          17.741822673314115,
          17.405298480531602,
          17.405067426400965,
          17.533431671415087,
          17.752413390313237,
          17.79013143399801,
          17.777737108262137,
          18.075693257359877,
          17.784586490978135,
          17.652810161443316,
          17.602965811965614,
          18.00819033713211,
          17.99901339031336,
          17.58830942545085,
          17.88462799145292,
          18.35219093067426,
          18.16034900284913,
          18.043109686609974,
          18.10366925451048,
          18.315463627730125,
          18.102267117758675,
          18.15015757359911,
          18.119519871795045,
          18.240806600190048,
          18.343776115859526,
          18.106891358024562,
          18.254712844254495,
          18.200117830009294,
          18.029764031339145,
          18.061950379867174,
          18.50654579242658
         ]
        },
        {
         "line": {
          "color": "rgb(199, 121, 093)"
         },
         "name": "Mean Temperature",
         "type": "scatter",
         "x": [
          1743,
          1744,
          1745,
          1750,
          1751,
          1752,
          1753,
          1754,
          1755,
          1756,
          1757,
          1758,
          1759,
          1760,
          1761,
          1762,
          1763,
          1764,
          1765,
          1766,
          1767,
          1768,
          1769,
          1770,
          1771,
          1772,
          1773,
          1774,
          1775,
          1776,
          1777,
          1778,
          1779,
          1780,
          1781,
          1782,
          1783,
          1784,
          1785,
          1786,
          1787,
          1788,
          1789,
          1790,
          1791,
          1792,
          1793,
          1794,
          1795,
          1796,
          1797,
          1798,
          1799,
          1800,
          1801,
          1802,
          1803,
          1804,
          1805,
          1806,
          1807,
          1808,
          1809,
          1810,
          1811,
          1812,
          1813,
          1814,
          1815,
          1816,
          1817,
          1818,
          1819,
          1820,
          1821,
          1822,
          1823,
          1824,
          1825,
          1826,
          1827,
          1828,
          1829,
          1830,
          1831,
          1832,
          1833,
          1834,
          1835,
          1836,
          1837,
          1838,
          1839,
          1840,
          1841,
          1842,
          1843,
          1844,
          1845,
          1846,
          1847,
          1848,
          1849,
          1850,
          1851,
          1852,
          1853,
          1854,
          1855,
          1856,
          1857,
          1858,
          1859,
          1860,
          1861,
          1862,
          1863,
          1864,
          1865,
          1866,
          1867,
          1868,
          1869,
          1870,
          1871,
          1872,
          1873,
          1874,
          1875,
          1876,
          1877,
          1878,
          1879,
          1880,
          1881,
          1882,
          1883,
          1884,
          1885,
          1886,
          1887,
          1888,
          1889,
          1890,
          1891,
          1892,
          1893,
          1894,
          1895,
          1896,
          1897,
          1898,
          1899,
          1900,
          1901,
          1902,
          1903,
          1904,
          1905,
          1906,
          1907,
          1908,
          1909,
          1910,
          1911,
          1912,
          1913,
          1914,
          1915,
          1916,
          1917,
          1918,
          1919,
          1920,
          1921,
          1922,
          1923,
          1924,
          1925,
          1926,
          1927,
          1928,
          1929,
          1930,
          1931,
          1932,
          1933,
          1934,
          1935,
          1936,
          1937,
          1938,
          1939,
          1940,
          1941,
          1942,
          1943,
          1944,
          1945,
          1946,
          1947,
          1948,
          1949,
          1950,
          1951,
          1952,
          1953,
          1954,
          1955,
          1956,
          1957,
          1958,
          1959,
          1960,
          1961,
          1962,
          1963,
          1964,
          1965,
          1966,
          1967,
          1968,
          1969,
          1970,
          1971,
          1972,
          1973,
          1974,
          1975,
          1976,
          1977,
          1978,
          1979,
          1980,
          1981,
          1982,
          1983,
          1984,
          1985,
          1986,
          1987,
          1988,
          1989,
          1990,
          1991,
          1992,
          1993,
          1994,
          1995,
          1996,
          1997,
          1998,
          1999,
          2000,
          2001,
          2002,
          2003,
          2004,
          2005,
          2006,
          2007,
          2008,
          2009,
          2010,
          2011,
          2012,
          2013
         ],
         "y": [
          4.882423512747878,
          10.734046919263443,
          1.4975927762039645,
          9.872808244930848,
          10.04673873707536,
          4.253063583815017,
          9.452665778961395,
          9.364699884659704,
          8.825222310666287,
          9.732708362128546,
          9.519407968574614,
          8.64849357798168,
          9.691045464270381,
          8.798937674834935,
          9.794437908496736,
          9.372744063926891,
          8.744660119457896,
          9.814161742555912,
          9.386765923925285,
          9.541004555555583,
          9.09367706113292,
          8.85444051172705,
          9.447378129681134,
          9.509911538461564,
          9.438601388888905,
          9.945822709163325,
          10.043391529259706,
          9.538027639027595,
          10.574010810243477,
          9.41226826142676,
          9.232807058326298,
          9.375036546729975,
          9.73240779695898,
          9.469317456673972,
          10.016636601834216,
          8.950201793270251,
          9.7689316789215,
          9.106745936877417,
          8.810571953835083,
          9.032166767432507,
          9.96787385250127,
          9.710807723009376,
          9.814777118560245,
          10.031054267542011,
          10.422602746396631,
          9.941539370460058,
          10.058175030599822,
          10.50207151576808,
          9.735600683654487,
          15.137766662187722,
          15.160372865680054,
          14.720698255071586,
          14.708681763284906,
          15.258411361805004,
          14.867708321418423,
          15.754577093994017,
          15.199810572983067,
          15.552923787838116,
          14.850211869556436,
          15.432511952998494,
          14.505044966346844,
          9.240388074583718,
          9.316521223529431,
          9.382670348343272,
          10.092118890977432,
          8.767334210765144,
          14.336579349664811,
          13.563461861396398,
          14.02943173478421,
          14.266152702062088,
          14.625925776522804,
          15.09128708775195,
          14.893161167800542,
          14.348332056601711,
          14.435909367518043,
          14.784790461771372,
          14.349090822323763,
          15.04204427016145,
          16.330363461881735,
          15.007845728770459,
          15.186842795200157,
          14.812082922946802,
          13.971163343064754,
          14.205239143920446,
          13.81094755877038,
          13.774887593394604,
          15.01707858596121,
          15.288224724809456,
          14.575386599180588,
          14.786311012026374,
          14.519746852165458,
          14.669772762967469,
          15.286412381544281,
          15.495474925725743,
          15.511865932169673,
          15.551532776955163,
          15.789382175027951,
          14.884832278705995,
          15.106487552623497,
          15.911679020582241,
          15.348561618435935,
          15.202868493611136,
          15.48702558419362,
          16.192064678766982,
          16.584894548043316,
          16.387710304077515,
          16.38173468084524,
          16.647173072693242,
          16.46670889612127,
          16.45334062704951,
          16.07523581889033,
          15.975535939365487,
          16.449035161325206,
          15.953020206753894,
          16.01338229625556,
          14.154211931689167,
          15.044016863248176,
          14.841465776647555,
          15.930115559129307,
          16.29630798908695,
          16.260087739750777,
          16.519711982131714,
          16.564221605894883,
          16.655101252472186,
          16.38822215792497,
          16.715643718949664,
          16.971629533414816,
          17.037570996298605,
          16.875182291920154,
          17.083622405424727,
          17.42229722678523,
          17.620437259969663,
          17.026344372005564,
          17.177439988417515,
          17.15488325167149,
          17.18547378552014,
          17.005380314600224,
          16.767088266037973,
          16.7239610195652,
          17.06496672903468,
          17.03878874186471,
          17.07719300988612,
          17.24816588987092,
          17.243240356296063,
          17.19570928961738,
          17.14275759739171,
          16.905717023299943,
          17.32285942545093,
          17.206135493827016,
          17.413317497625776,
          17.480887654320938,
          17.480181105169436,
          17.553389529914508,
          17.62251130104462,
          17.469447222222012,
          17.442241547958094,
          17.381778632478813,
          17.198060137701628,
          17.291567022792123,
          17.43564458689442,
          17.14037217473887,
          17.218217188984053,
          17.26935075973418,
          17.28451160968672,
          17.35975681386518,
          17.292802564102693,
          17.415246248812895,
          17.674071581196305,
          17.648137393162337,
          17.45001780626797,
          17.032358523266723,
          17.335453751187053,
          17.46953238366577,
          17.498858309591725,
          17.67212640075949,
          17.531446699905135,
          17.529943399810154,
          17.4407323599242,
          17.531972103513628,
          17.665183618233588,
          17.60234297245982,
          17.652286894587043,
          17.3925877730293,
          17.732781695156596,
          17.63577867996213,
          17.71726797245955,
          17.428404249762437,
          17.69505942545137,
          17.647516001899152,
          17.64743656220273,
          17.764566761633247,
          17.854721082620987,
          17.81035956790125,
          17.59050398860403,
          17.82219781576461,
          17.66152659069338,
          17.749479819563124,
          17.73079698480538,
          17.607762321937095,
          17.9344333570746,
          17.790526566951716,
          17.912139363722954,
          17.859298409306792,
          17.679402041785483,
          17.821102991452765,
          17.829925949667754,
          17.976885018992935,
          17.684173456790525,
          17.71472136752141,
          17.30505189933512,
          17.798230199430158,
          17.997430650522425,
          18.002708618233804,
          17.900933879392245,
          18.029934377967923,
          17.727212203229104,
          17.738177967711156,
          17.655022554605655,
          17.623809947768518,
          17.971467331433985,
          17.752271581196457,
          17.63904843304849,
          17.683528846153656,
          17.779190337131947,
          17.653380246913663,
          17.762622792022814,
          17.972550474833735,
          17.704323741690516,
          17.872018209876515,
          17.496270821462414,
          17.98838029439696,
          17.768577943969582,
          17.961801377017924,
          17.840025403608685,
          17.94437431149103,
          17.955699382715906,
          18.094130769230546,
          17.750914672364456,
          17.760221391263265,
          17.87824582146257,
          18.093332953466135,
          18.121301566951473,
          18.139926305793,
          18.43835826210822,
          18.111251756885068,
          18.01537882241198,
          17.942709829059634,
          18.34565358499536,
          18.328775546058846,
          17.91426255935398,
          18.23427376543202,
          18.68251429249763,
          18.484275522317304,
          18.383936514720133,
          18.456090384614946,
          18.664708262108096,
          18.478554131054022,
          18.494878133903,
          18.451510232668742,
          18.60447200854712,
          18.68694059829068,
          18.445346604938134,
          18.601106101614416,
          18.553508452041584,
          18.39331464862309,
          18.525968518518642,
          19.0610381136047
         ]
        }
       ],
       "layout": {
        "showlegend": false,
        "template": {
         "data": {
          "bar": [
           {
            "error_x": {
             "color": "#2a3f5f"
            },
            "error_y": {
             "color": "#2a3f5f"
            },
            "marker": {
             "line": {
              "color": "#E5ECF6",
              "width": 0.5
             },
             "pattern": {
              "fillmode": "overlay",
              "size": 10,
              "solidity": 0.2
             }
            },
            "type": "bar"
           }
          ],
          "barpolar": [
           {
            "marker": {
             "line": {
              "color": "#E5ECF6",
              "width": 0.5
             },
             "pattern": {
              "fillmode": "overlay",
              "size": 10,
              "solidity": 0.2
             }
            },
            "type": "barpolar"
           }
          ],
          "carpet": [
           {
            "aaxis": {
             "endlinecolor": "#2a3f5f",
             "gridcolor": "white",
             "linecolor": "white",
             "minorgridcolor": "white",
             "startlinecolor": "#2a3f5f"
            },
            "baxis": {
             "endlinecolor": "#2a3f5f",
             "gridcolor": "white",
             "linecolor": "white",
             "minorgridcolor": "white",
             "startlinecolor": "#2a3f5f"
            },
            "type": "carpet"
           }
          ],
          "choropleth": [
           {
            "colorbar": {
             "outlinewidth": 0,
             "ticks": ""
            },
            "type": "choropleth"
           }
          ],
          "contour": [
           {
            "colorbar": {
             "outlinewidth": 0,
             "ticks": ""
            },
            "colorscale": [
             [
              0,
              "#0d0887"
             ],
             [
              0.1111111111111111,
              "#46039f"
             ],
             [
              0.2222222222222222,
              "#7201a8"
             ],
             [
              0.3333333333333333,
              "#9c179e"
             ],
             [
              0.4444444444444444,
              "#bd3786"
             ],
             [
              0.5555555555555556,
              "#d8576b"
             ],
             [
              0.6666666666666666,
              "#ed7953"
             ],
             [
              0.7777777777777778,
              "#fb9f3a"
             ],
             [
              0.8888888888888888,
              "#fdca26"
             ],
             [
              1,
              "#f0f921"
             ]
            ],
            "type": "contour"
           }
          ],
          "contourcarpet": [
           {
            "colorbar": {
             "outlinewidth": 0,
             "ticks": ""
            },
            "type": "contourcarpet"
           }
          ],
          "heatmap": [
           {
            "colorbar": {
             "outlinewidth": 0,
             "ticks": ""
            },
            "colorscale": [
             [
              0,
              "#0d0887"
             ],
             [
              0.1111111111111111,
              "#46039f"
             ],
             [
              0.2222222222222222,
              "#7201a8"
             ],
             [
              0.3333333333333333,
              "#9c179e"
             ],
             [
              0.4444444444444444,
              "#bd3786"
             ],
             [
              0.5555555555555556,
              "#d8576b"
             ],
             [
              0.6666666666666666,
              "#ed7953"
             ],
             [
              0.7777777777777778,
              "#fb9f3a"
             ],
             [
              0.8888888888888888,
              "#fdca26"
             ],
             [
              1,
              "#f0f921"
             ]
            ],
            "type": "heatmap"
           }
          ],
          "heatmapgl": [
           {
            "colorbar": {
             "outlinewidth": 0,
             "ticks": ""
            },
            "colorscale": [
             [
              0,
              "#0d0887"
             ],
             [
              0.1111111111111111,
              "#46039f"
             ],
             [
              0.2222222222222222,
              "#7201a8"
             ],
             [
              0.3333333333333333,
              "#9c179e"
             ],
             [
              0.4444444444444444,
              "#bd3786"
             ],
             [
              0.5555555555555556,
              "#d8576b"
             ],
             [
              0.6666666666666666,
              "#ed7953"
             ],
             [
              0.7777777777777778,
              "#fb9f3a"
             ],
             [
              0.8888888888888888,
              "#fdca26"
             ],
             [
              1,
              "#f0f921"
             ]
            ],
            "type": "heatmapgl"
           }
          ],
          "histogram": [
           {
            "marker": {
             "pattern": {
              "fillmode": "overlay",
              "size": 10,
              "solidity": 0.2
             }
            },
            "type": "histogram"
           }
          ],
          "histogram2d": [
           {
            "colorbar": {
             "outlinewidth": 0,
             "ticks": ""
            },
            "colorscale": [
             [
              0,
              "#0d0887"
             ],
             [
              0.1111111111111111,
              "#46039f"
             ],
             [
              0.2222222222222222,
              "#7201a8"
             ],
             [
              0.3333333333333333,
              "#9c179e"
             ],
             [
              0.4444444444444444,
              "#bd3786"
             ],
             [
              0.5555555555555556,
              "#d8576b"
             ],
             [
              0.6666666666666666,
              "#ed7953"
             ],
             [
              0.7777777777777778,
              "#fb9f3a"
             ],
             [
              0.8888888888888888,
              "#fdca26"
             ],
             [
              1,
              "#f0f921"
             ]
            ],
            "type": "histogram2d"
           }
          ],
          "histogram2dcontour": [
           {
            "colorbar": {
             "outlinewidth": 0,
             "ticks": ""
            },
            "colorscale": [
             [
              0,
              "#0d0887"
             ],
             [
              0.1111111111111111,
              "#46039f"
             ],
             [
              0.2222222222222222,
              "#7201a8"
             ],
             [
              0.3333333333333333,
              "#9c179e"
             ],
             [
              0.4444444444444444,
              "#bd3786"
             ],
             [
              0.5555555555555556,
              "#d8576b"
             ],
             [
              0.6666666666666666,
              "#ed7953"
             ],
             [
              0.7777777777777778,
              "#fb9f3a"
             ],
             [
              0.8888888888888888,
              "#fdca26"
             ],
             [
              1,
              "#f0f921"
             ]
            ],
            "type": "histogram2dcontour"
           }
          ],
          "mesh3d": [
           {
            "colorbar": {
             "outlinewidth": 0,
             "ticks": ""
            },
            "type": "mesh3d"
           }
          ],
          "parcoords": [
           {
            "line": {
             "colorbar": {
              "outlinewidth": 0,
              "ticks": ""
             }
            },
            "type": "parcoords"
           }
          ],
          "pie": [
           {
            "automargin": true,
            "type": "pie"
           }
          ],
          "scatter": [
           {
            "marker": {
             "colorbar": {
              "outlinewidth": 0,
              "ticks": ""
             }
            },
            "type": "scatter"
           }
          ],
          "scatter3d": [
           {
            "line": {
             "colorbar": {
              "outlinewidth": 0,
              "ticks": ""
             }
            },
            "marker": {
             "colorbar": {
              "outlinewidth": 0,
              "ticks": ""
             }
            },
            "type": "scatter3d"
           }
          ],
          "scattercarpet": [
           {
            "marker": {
             "colorbar": {
              "outlinewidth": 0,
              "ticks": ""
             }
            },
            "type": "scattercarpet"
           }
          ],
          "scattergeo": [
           {
            "marker": {
             "colorbar": {
              "outlinewidth": 0,
              "ticks": ""
             }
            },
            "type": "scattergeo"
           }
          ],
          "scattergl": [
           {
            "marker": {
             "colorbar": {
              "outlinewidth": 0,
              "ticks": ""
             }
            },
            "type": "scattergl"
           }
          ],
          "scattermapbox": [
           {
            "marker": {
             "colorbar": {
              "outlinewidth": 0,
              "ticks": ""
             }
            },
            "type": "scattermapbox"
           }
          ],
          "scatterpolar": [
           {
            "marker": {
             "colorbar": {
              "outlinewidth": 0,
              "ticks": ""
             }
            },
            "type": "scatterpolar"
           }
          ],
          "scatterpolargl": [
           {
            "marker": {
             "colorbar": {
              "outlinewidth": 0,
              "ticks": ""
             }
            },
            "type": "scatterpolargl"
           }
          ],
          "scatterternary": [
           {
            "marker": {
             "colorbar": {
              "outlinewidth": 0,
              "ticks": ""
             }
            },
            "type": "scatterternary"
           }
          ],
          "surface": [
           {
            "colorbar": {
             "outlinewidth": 0,
             "ticks": ""
            },
            "colorscale": [
             [
              0,
              "#0d0887"
             ],
             [
              0.1111111111111111,
              "#46039f"
             ],
             [
              0.2222222222222222,
              "#7201a8"
             ],
             [
              0.3333333333333333,
              "#9c179e"
             ],
             [
              0.4444444444444444,
              "#bd3786"
             ],
             [
              0.5555555555555556,
              "#d8576b"
             ],
             [
              0.6666666666666666,
              "#ed7953"
             ],
             [
              0.7777777777777778,
              "#fb9f3a"
             ],
             [
              0.8888888888888888,
              "#fdca26"
             ],
             [
              1,
              "#f0f921"
             ]
            ],
            "type": "surface"
           }
          ],
          "table": [
           {
            "cells": {
             "fill": {
              "color": "#EBF0F8"
             },
             "line": {
              "color": "white"
             }
            },
            "header": {
             "fill": {
              "color": "#C8D4E3"
             },
             "line": {
              "color": "white"
             }
            },
            "type": "table"
           }
          ]
         },
         "layout": {
          "annotationdefaults": {
           "arrowcolor": "#2a3f5f",
           "arrowhead": 0,
           "arrowwidth": 1
          },
          "autotypenumbers": "strict",
          "coloraxis": {
           "colorbar": {
            "outlinewidth": 0,
            "ticks": ""
           }
          },
          "colorscale": {
           "diverging": [
            [
             0,
             "#8e0152"
            ],
            [
             0.1,
             "#c51b7d"
            ],
            [
             0.2,
             "#de77ae"
            ],
            [
             0.3,
             "#f1b6da"
            ],
            [
             0.4,
             "#fde0ef"
            ],
            [
             0.5,
             "#f7f7f7"
            ],
            [
             0.6,
             "#e6f5d0"
            ],
            [
             0.7,
             "#b8e186"
            ],
            [
             0.8,
             "#7fbc41"
            ],
            [
             0.9,
             "#4d9221"
            ],
            [
             1,
             "#276419"
            ]
           ],
           "sequential": [
            [
             0,
             "#0d0887"
            ],
            [
             0.1111111111111111,
             "#46039f"
            ],
            [
             0.2222222222222222,
             "#7201a8"
            ],
            [
             0.3333333333333333,
             "#9c179e"
            ],
            [
             0.4444444444444444,
             "#bd3786"
            ],
            [
             0.5555555555555556,
             "#d8576b"
            ],
            [
             0.6666666666666666,
             "#ed7953"
            ],
            [
             0.7777777777777778,
             "#fb9f3a"
            ],
            [
             0.8888888888888888,
             "#fdca26"
            ],
            [
             1,
             "#f0f921"
            ]
           ],
           "sequentialminus": [
            [
             0,
             "#0d0887"
            ],
            [
             0.1111111111111111,
             "#46039f"
            ],
            [
             0.2222222222222222,
             "#7201a8"
            ],
            [
             0.3333333333333333,
             "#9c179e"
            ],
            [
             0.4444444444444444,
             "#bd3786"
            ],
            [
             0.5555555555555556,
             "#d8576b"
            ],
            [
             0.6666666666666666,
             "#ed7953"
            ],
            [
             0.7777777777777778,
             "#fb9f3a"
            ],
            [
             0.8888888888888888,
             "#fdca26"
            ],
            [
             1,
             "#f0f921"
            ]
           ]
          },
          "colorway": [
           "#636efa",
           "#EF553B",
           "#00cc96",
           "#ab63fa",
           "#FFA15A",
           "#19d3f3",
           "#FF6692",
           "#B6E880",
           "#FF97FF",
           "#FECB52"
          ],
          "font": {
           "color": "#2a3f5f"
          },
          "geo": {
           "bgcolor": "white",
           "lakecolor": "white",
           "landcolor": "#E5ECF6",
           "showlakes": true,
           "showland": true,
           "subunitcolor": "white"
          },
          "hoverlabel": {
           "align": "left"
          },
          "hovermode": "closest",
          "mapbox": {
           "style": "light"
          },
          "paper_bgcolor": "white",
          "plot_bgcolor": "#E5ECF6",
          "polar": {
           "angularaxis": {
            "gridcolor": "white",
            "linecolor": "white",
            "ticks": ""
           },
           "bgcolor": "#E5ECF6",
           "radialaxis": {
            "gridcolor": "white",
            "linecolor": "white",
            "ticks": ""
           }
          },
          "scene": {
           "xaxis": {
            "backgroundcolor": "#E5ECF6",
            "gridcolor": "white",
            "gridwidth": 2,
            "linecolor": "white",
            "showbackground": true,
            "ticks": "",
            "zerolinecolor": "white"
           },
           "yaxis": {
            "backgroundcolor": "#E5ECF6",
            "gridcolor": "white",
            "gridwidth": 2,
            "linecolor": "white",
            "showbackground": true,
            "ticks": "",
            "zerolinecolor": "white"
           },
           "zaxis": {
            "backgroundcolor": "#E5ECF6",
            "gridcolor": "white",
            "gridwidth": 2,
            "linecolor": "white",
            "showbackground": true,
            "ticks": "",
            "zerolinecolor": "white"
           }
          },
          "shapedefaults": {
           "line": {
            "color": "#2a3f5f"
           }
          },
          "ternary": {
           "aaxis": {
            "gridcolor": "white",
            "linecolor": "white",
            "ticks": ""
           },
           "baxis": {
            "gridcolor": "white",
            "linecolor": "white",
            "ticks": ""
           },
           "bgcolor": "#E5ECF6",
           "caxis": {
            "gridcolor": "white",
            "linecolor": "white",
            "ticks": ""
           }
          },
          "title": {
           "x": 0.05
          },
          "xaxis": {
           "automargin": true,
           "gridcolor": "white",
           "linecolor": "white",
           "ticks": "",
           "title": {
            "standoff": 15
           },
           "zerolinecolor": "white",
           "zerolinewidth": 2
          },
          "yaxis": {
           "automargin": true,
           "gridcolor": "white",
           "linecolor": "white",
           "ticks": "",
           "title": {
            "standoff": 15
           },
           "zerolinecolor": "white",
           "zerolinewidth": 2
          }
         }
        },
        "title": {
         "text": "Mean land temperature in world"
        },
        "xaxis": {
         "title": {
          "text": "year"
         }
        },
        "yaxis": {
         "range": [
          -10,
          30
         ],
         "title": {
          "text": "Mean Temperature, °C"
         }
        }
       }
      },
      "text/html": [
       "<div>                            <div id=\"2394c453-4fd0-4c24-b281-ee0bc26933a3\" class=\"plotly-graph-div\" style=\"height:525px; width:100%;\"></div>            <script type=\"text/javascript\">                require([\"plotly\"], function(Plotly) {                    window.PLOTLYENV=window.PLOTLYENV || {};                                    if (document.getElementById(\"2394c453-4fd0-4c24-b281-ee0bc26933a3\")) {                    Plotly.newPlot(                        \"2394c453-4fd0-4c24-b281-ee0bc26933a3\",                        [{\"line\":{\"color\":\"rgb(0, 220, 255)\"},\"mode\":\"lines\",\"name\":\"Uncertainty top\",\"type\":\"scatter\",\"x\":[1743,1744,1745,1750,1751,1752,1753,1754,1755,1756,1757,1758,1759,1760,1761,1762,1763,1764,1765,1766,1767,1768,1769,1770,1771,1772,1773,1774,1775,1776,1777,1778,1779,1780,1781,1782,1783,1784,1785,1786,1787,1788,1789,1790,1791,1792,1793,1794,1795,1796,1797,1798,1799,1800,1801,1802,1803,1804,1805,1806,1807,1808,1809,1810,1811,1812,1813,1814,1815,1816,1817,1818,1819,1820,1821,1822,1823,1824,1825,1826,1827,1828,1829,1830,1831,1832,1833,1834,1835,1836,1837,1838,1839,1840,1841,1842,1843,1844,1845,1846,1847,1848,1849,1850,1851,1852,1853,1854,1855,1856,1857,1858,1859,1860,1861,1862,1863,1864,1865,1866,1867,1868,1869,1870,1871,1872,1873,1874,1875,1876,1877,1878,1879,1880,1881,1882,1883,1884,1885,1886,1887,1888,1889,1890,1891,1892,1893,1894,1895,1896,1897,1898,1899,1900,1901,1902,1903,1904,1905,1906,1907,1908,1909,1910,1911,1912,1913,1914,1915,1916,1917,1918,1919,1920,1921,1922,1923,1924,1925,1926,1927,1928,1929,1930,1931,1932,1933,1934,1935,1936,1937,1938,1939,1940,1941,1942,1943,1944,1945,1946,1947,1948,1949,1950,1951,1952,1953,1954,1955,1956,1957,1958,1959,1960,1961,1962,1963,1964,1965,1966,1967,1968,1969,1970,1971,1972,1973,1974,1975,1976,1977,1978,1979,1980,1981,1982,1983,1984,1985,1986,1987,1988,1989,1990,1991,1992,1993,1994,1995,1996,1997,1998,1999,2000,2001,2002,2003,2004,2005,2006,2007,2008,2009,2010,2011,2012,2013],\"y\":[6.836325779036826,12.578337995750696,3.3416058781869724,11.66521364307775,11.779750738552467,6.23013896917148,13.010562694185523,12.561699538638965,13.028929156242814,13.808156530753266,14.717780246913538,14.118714624932561,14.959352374839506,13.29372955130354,13.437145143114716,13.909112671232812,12.58838008270165,13.680677441779643,12.663923700202579,13.381722888888907,13.835431183398763,13.878347867803827,13.791157179542019,14.81902168803423,13.877649786324763,14.324013722886253,13.120307576247523,14.499235098235046,13.814816330814423,12.986905916275116,12.301935756551135,12.920731952930474,13.792149651309044,12.697716400780477,13.783162450871837,13.366353616764094,13.255710988562015,13.935744364055758,12.520563476662149,13.108757456670714,14.174541619391423,12.931923767711044,12.834472164540651,13.286346430036899,13.1548779703935,12.671619467312356,13.918014075887468,14.21027741607329,13.526927076859371,18.0644109782318,18.27957171314734,17.554496595261675,17.24795679012333,17.774819567553045,17.112579425221696,18.119819216267132,17.64996789144885,18.43212449772294,17.12433279319426,17.72768901944904,16.93754382070744,11.883733472928524,12.495446494117669,12.767261115831243,13.559176127819573,11.609279749478048,17.197723826827897,16.588047342246355,16.93147576869539,17.355838883621697,17.320616319944698,18.264499242512485,17.36622607709759,16.73213645068617,16.813812849162076,16.870410547564955,16.559633545988802,17.409618956710155,18.435990269594615,17.16623482889719,17.409422809317327,17.131187932149402,16.460677074570505,16.55498666253084,16.691184655127948,16.29306681578075,17.12942917090525,17.42464233700251,16.498188398811017,16.86902282582004,16.617628617429872,16.938945691258418,17.184150768991856,17.440236496402623,17.36545602973389,17.254868387400712,17.444925833388126,16.437320583007452,16.742281101866055,17.66781502485217,17.152206178398824,16.818488533960828,17.105187448546737,17.824690751944757,18.244263260220517,18.03268502466618,17.83358314129448,18.233993538986006,18.021322836994603,18.012172399317635,17.5362936450357,17.527697298648082,17.85371784322215,17.35273582356988,17.45455401982383,15.729289056677011,16.682452085223584,16.291431265703956,17.387608437194892,17.610251247003,17.681407083576243,17.88931359463955,17.97059333278941,18.038463124588194,17.707746462201897,18.19590179533691,18.271086644254247,18.301246824046924,17.96257278527232,18.307611795409844,18.787464658421147,18.81197024226477,18.11678194300374,18.25574475170114,18.108507325432672,18.07902345949332,17.908981138438545,17.70532695626818,17.666953178673086,17.971521277106067,17.96101217549983,18.023311909171714,18.14111281952689,18.164697507362806,17.969810572582443,17.946051093500802,17.698315644317532,18.089465265906775,17.937233689458548,18.153790289648576,18.284432787274397,18.26482578728471,18.300816476733125,18.399851709401695,18.23830016619161,18.169802326685534,18.096909164292683,17.874758095916253,17.944719919278356,18.072075949667454,17.738359283000978,17.8413039411208,17.87330149572658,17.883573694207147,17.947805864197566,17.900583309591763,17.98965037986703,18.27481028015167,18.238798717948665,18.04643053181403,17.648444349477558,17.9003204653371,18.071345536562266,18.10997780151956,18.249794681861108,18.08535144824322,18.05278062678071,17.966980864197712,18.072672388413906,18.186278228869867,18.09451315289666,18.154356386514863,17.900852469135664,18.204321320037884,18.11290693257372,18.201041381766295,17.901673789173643,18.17002879867074,18.116144705602853,18.109377397910237,18.22237158119641,18.311418732193633,18.251968922127276,18.030862203228903,18.278371391263192,18.111164482431274,18.191421581196558,18.193767735042794,18.075584235517344,18.381554629629203,18.234294064577544,18.334368827160755,18.279933048433094,18.084884829059934,18.262862226970334,18.204822697056166,18.349511206077455,18.076868281102016,18.097936253561297,17.697605840455722,18.282296913580208,18.41388663342841,18.401909852801705,18.280256433998137,18.392296153846363,18.119746984805552,18.113415479582,18.022695037986473,18.016229320987893,18.338617355175675,18.117581054130927,18.001823836657234,18.05138461538443,18.12700472459634,17.998590384615472,18.13651305792975,18.329807431149018,18.0560136277304,18.23009691358022,17.864549976258232,18.327820868945874,18.111991619183254,18.29596094491916,18.166144088319044,18.292249762583143,18.300003513770037,18.446438865146977,18.09653086419731,18.115375356125565,18.223059971510054,18.434252516619033,18.452471699904937,18.502115503323864,18.801023266856564,18.437917022792,18.37794748338064,18.282453846153654,18.683116832858612,18.658537701804335,18.24021569325711,18.583919539411124,19.012837654320997,18.808202041785478,18.724763342830293,18.808511514719413,19.013952896486067,18.85484114434937,18.83959869420689,18.78350059354244,18.96813741690419,19.03010508072183,18.783801851851706,18.947499358974337,18.906899074073873,18.756865265907035,18.98998665717011,19.61553043478282]},{\"fill\":\"tonexty\",\"line\":{\"color\":\"rgb(0, 220, 255)\"},\"mode\":\"lines\",\"name\":\"Uncertainty bot\",\"type\":\"scatter\",\"x\":[1743,1744,1745,1750,1751,1752,1753,1754,1755,1756,1757,1758,1759,1760,1761,1762,1763,1764,1765,1766,1767,1768,1769,1770,1771,1772,1773,1774,1775,1776,1777,1778,1779,1780,1781,1782,1783,1784,1785,1786,1787,1788,1789,1790,1791,1792,1793,1794,1795,1796,1797,1798,1799,1800,1801,1802,1803,1804,1805,1806,1807,1808,1809,1810,1811,1812,1813,1814,1815,1816,1817,1818,1819,1820,1821,1822,1823,1824,1825,1826,1827,1828,1829,1830,1831,1832,1833,1834,1835,1836,1837,1838,1839,1840,1841,1842,1843,1844,1845,1846,1847,1848,1849,1850,1851,1852,1853,1854,1855,1856,1857,1858,1859,1860,1861,1862,1863,1864,1865,1866,1867,1868,1869,1870,1871,1872,1873,1874,1875,1876,1877,1878,1879,1880,1881,1882,1883,1884,1885,1886,1887,1888,1889,1890,1891,1892,1893,1894,1895,1896,1897,1898,1899,1900,1901,1902,1903,1904,1905,1906,1907,1908,1909,1910,1911,1912,1913,1914,1915,1916,1917,1918,1919,1920,1921,1922,1923,1924,1925,1926,1927,1928,1929,1930,1931,1932,1933,1934,1935,1936,1937,1938,1939,1940,1941,1942,1943,1944,1945,1946,1947,1948,1949,1950,1951,1952,1953,1954,1955,1956,1957,1958,1959,1960,1961,1962,1963,1964,1965,1966,1967,1968,1969,1970,1971,1972,1973,1974,1975,1976,1977,1978,1979,1980,1981,1982,1983,1984,1985,1986,1987,1988,1989,1990,1991,1992,1993,1994,1995,1996,1997,1998,1999,2000,2001,2002,2003,2004,2005,2006,2007,2008,2009,2010,2011,2012,2013],\"y\":[2.9285212464589305,8.889755842776191,-0.34642032577904325,8.080402846783945,8.313726735598253,2.2759881984585535,5.894768863737266,6.167700230680443,4.621515465089761,5.657260193503827,4.32103569023569,3.1782725310308004,4.422738553701256,4.30414579836633,6.151730673878755,4.83637545662097,4.9009401562141415,5.947646043332181,6.109608147647991,5.700286222222259,4.351922938867078,3.830533155650274,5.10359907982025,4.200801388888899,4.999552991453046,5.567631695440397,6.96647548227189,4.576820179820144,7.33320528967253,5.837630606578405,6.163678360101461,5.829341140529475,5.672665942608917,6.240918512567466,6.250110752796596,4.534049969776409,6.282152369280987,4.2777475096990765,5.100580431008018,4.9555760781943,5.761206085611119,6.489691678307707,6.79508207257984,6.775762105047123,7.6903275223997625,7.21145927360776,6.198335985312175,6.79386561546287,5.944274290449604,12.211122346143647,12.04117401821277,11.886899914881496,12.169406736446483,12.742003156056962,12.622837217615151,13.389334971720904,12.749653254517282,12.673723077953294,12.57609094591861,13.137334886547947,12.072546111986249,6.597042676238912,6.137595952941194,5.9980795808553005,6.6250616541352905,5.9253886720522395,11.475434872501728,10.538876380546442,11.12738770087303,11.176466520502482,11.93123523310091,11.918074932991415,12.420096258503495,11.964527662517252,12.05800588587401,12.69917037597779,12.138548098658722,12.674469583612744,14.224736654168856,12.849456628643729,12.964262781082988,12.492977913744202,11.481649611559003,11.855491625310052,10.930710462412812,11.256708371008457,12.904728001017169,13.151807112616405,12.652584799550159,12.703599198232707,12.421865086901043,12.400599834676518,13.388673994096704,13.550713355048861,13.658275834605458,13.848197166509616,14.133838516667776,13.332343974404537,13.47069400338094,14.155543016312311,13.544917058473047,13.587248453261445,13.868863719840506,14.559438605589207,14.925525835866114,14.74273558348885,14.929886220396003,15.060352606400478,14.912094955247936,14.894508854781385,14.614177992744962,14.423374580082893,15.044352479428262,14.553304589937909,14.57221057268729,12.579134806701322,13.405581641272768,13.391500287591152,14.47262268106372,14.982364731170904,14.83876839592531,15.150110369623878,15.157849879000356,15.271739380356179,15.068697853648047,15.235385642562422,15.672172422575384,15.773895168550284,15.787791798567987,15.85963301543961,16.05712979514931,16.428904277674555,15.935906801007388,16.09913522513389,16.201259177910305,16.29192411154696,16.101779490761903,15.828849575807766,15.78096886045731,16.158412180963293,16.11656530822959,16.131074110600526,16.35521896021495,16.32178320522932,16.421608006652317,16.33946410128262,16.113118402282353,16.556253584995083,16.475037298195485,16.672844705602976,16.67734252136748,16.69553642305416,16.80596258309589,16.84517089268755,16.700594278252414,16.714680769230654,16.666648100664943,16.521362179487003,16.63841412630589,16.799213224121385,16.542385066476765,16.595130436847306,16.665400023741782,16.685449525166295,16.771707763532792,16.685021818613624,16.84084211775876,17.07333288224094,17.05747606837601,16.85360508072191,16.416272697055888,16.770587037037007,16.86771923076927,16.88773881766389,17.09445811965787,16.97754195156705,17.0071061728396,16.91448385565069,16.99127181861335,17.14408900759731,17.11017279202298,17.150217402659223,16.88432307692294,17.26124207027531,17.15865042735054,17.233494563152803,16.95513471035123,17.220090052232,17.178887298195452,17.185495726495226,17.306761942070086,17.39802343304834,17.368750213675227,17.15014577397916,17.36602424026603,17.211888698955487,17.30753805792969,17.267826234567966,17.139940408356846,17.487312084519996,17.346759069325888,17.489909900285152,17.43866377018049,17.273919254511032,17.379343755935196,17.45502920227934,17.604258831908414,17.291478632479034,17.331506481481522,16.912497958214516,17.31416348528011,17.580974667616438,17.603507383665903,17.521611324786353,17.667572602089482,17.334677421652657,17.362940455840313,17.287350071224836,17.231390574549142,17.604317307692295,17.386962108261987,17.276273029439746,17.315673076922884,17.431375949667554,17.308170109211854,17.388732526115877,17.615293518518452,17.35263385565063,17.51393950617281,17.127991666666595,17.648939719848048,17.42516426875591,17.62764180911669,17.513906718898326,17.596498860398913,17.611395251661776,17.741822673314115,17.405298480531602,17.405067426400965,17.533431671415087,17.752413390313237,17.79013143399801,17.777737108262137,18.075693257359877,17.784586490978135,17.652810161443316,17.602965811965614,18.00819033713211,17.99901339031336,17.58830942545085,17.88462799145292,18.35219093067426,18.16034900284913,18.043109686609974,18.10366925451048,18.315463627730125,18.102267117758675,18.15015757359911,18.119519871795045,18.240806600190048,18.343776115859526,18.106891358024562,18.254712844254495,18.200117830009294,18.029764031339145,18.061950379867174,18.50654579242658]},{\"line\":{\"color\":\"rgb(199, 121, 093)\"},\"name\":\"Mean Temperature\",\"type\":\"scatter\",\"x\":[1743,1744,1745,1750,1751,1752,1753,1754,1755,1756,1757,1758,1759,1760,1761,1762,1763,1764,1765,1766,1767,1768,1769,1770,1771,1772,1773,1774,1775,1776,1777,1778,1779,1780,1781,1782,1783,1784,1785,1786,1787,1788,1789,1790,1791,1792,1793,1794,1795,1796,1797,1798,1799,1800,1801,1802,1803,1804,1805,1806,1807,1808,1809,1810,1811,1812,1813,1814,1815,1816,1817,1818,1819,1820,1821,1822,1823,1824,1825,1826,1827,1828,1829,1830,1831,1832,1833,1834,1835,1836,1837,1838,1839,1840,1841,1842,1843,1844,1845,1846,1847,1848,1849,1850,1851,1852,1853,1854,1855,1856,1857,1858,1859,1860,1861,1862,1863,1864,1865,1866,1867,1868,1869,1870,1871,1872,1873,1874,1875,1876,1877,1878,1879,1880,1881,1882,1883,1884,1885,1886,1887,1888,1889,1890,1891,1892,1893,1894,1895,1896,1897,1898,1899,1900,1901,1902,1903,1904,1905,1906,1907,1908,1909,1910,1911,1912,1913,1914,1915,1916,1917,1918,1919,1920,1921,1922,1923,1924,1925,1926,1927,1928,1929,1930,1931,1932,1933,1934,1935,1936,1937,1938,1939,1940,1941,1942,1943,1944,1945,1946,1947,1948,1949,1950,1951,1952,1953,1954,1955,1956,1957,1958,1959,1960,1961,1962,1963,1964,1965,1966,1967,1968,1969,1970,1971,1972,1973,1974,1975,1976,1977,1978,1979,1980,1981,1982,1983,1984,1985,1986,1987,1988,1989,1990,1991,1992,1993,1994,1995,1996,1997,1998,1999,2000,2001,2002,2003,2004,2005,2006,2007,2008,2009,2010,2011,2012,2013],\"y\":[4.882423512747878,10.734046919263443,1.4975927762039645,9.872808244930848,10.04673873707536,4.253063583815017,9.452665778961395,9.364699884659704,8.825222310666287,9.732708362128546,9.519407968574614,8.64849357798168,9.691045464270381,8.798937674834935,9.794437908496736,9.372744063926891,8.744660119457896,9.814161742555912,9.386765923925285,9.541004555555583,9.09367706113292,8.85444051172705,9.447378129681134,9.509911538461564,9.438601388888905,9.945822709163325,10.043391529259706,9.538027639027595,10.574010810243477,9.41226826142676,9.232807058326298,9.375036546729975,9.73240779695898,9.469317456673972,10.016636601834216,8.950201793270251,9.7689316789215,9.106745936877417,8.810571953835083,9.032166767432507,9.96787385250127,9.710807723009376,9.814777118560245,10.031054267542011,10.422602746396631,9.941539370460058,10.058175030599822,10.50207151576808,9.735600683654487,15.137766662187722,15.160372865680054,14.720698255071586,14.708681763284906,15.258411361805004,14.867708321418423,15.754577093994017,15.199810572983067,15.552923787838116,14.850211869556436,15.432511952998494,14.505044966346844,9.240388074583718,9.316521223529431,9.382670348343272,10.092118890977432,8.767334210765144,14.336579349664811,13.563461861396398,14.02943173478421,14.266152702062088,14.625925776522804,15.09128708775195,14.893161167800542,14.348332056601711,14.435909367518043,14.784790461771372,14.349090822323763,15.04204427016145,16.330363461881735,15.007845728770459,15.186842795200157,14.812082922946802,13.971163343064754,14.205239143920446,13.81094755877038,13.774887593394604,15.01707858596121,15.288224724809456,14.575386599180588,14.786311012026374,14.519746852165458,14.669772762967469,15.286412381544281,15.495474925725743,15.511865932169673,15.551532776955163,15.789382175027951,14.884832278705995,15.106487552623497,15.911679020582241,15.348561618435935,15.202868493611136,15.48702558419362,16.192064678766982,16.584894548043316,16.387710304077515,16.38173468084524,16.647173072693242,16.46670889612127,16.45334062704951,16.07523581889033,15.975535939365487,16.449035161325206,15.953020206753894,16.01338229625556,14.154211931689167,15.044016863248176,14.841465776647555,15.930115559129307,16.29630798908695,16.260087739750777,16.519711982131714,16.564221605894883,16.655101252472186,16.38822215792497,16.715643718949664,16.971629533414816,17.037570996298605,16.875182291920154,17.083622405424727,17.42229722678523,17.620437259969663,17.026344372005564,17.177439988417515,17.15488325167149,17.18547378552014,17.005380314600224,16.767088266037973,16.7239610195652,17.06496672903468,17.03878874186471,17.07719300988612,17.24816588987092,17.243240356296063,17.19570928961738,17.14275759739171,16.905717023299943,17.32285942545093,17.206135493827016,17.413317497625776,17.480887654320938,17.480181105169436,17.553389529914508,17.62251130104462,17.469447222222012,17.442241547958094,17.381778632478813,17.198060137701628,17.291567022792123,17.43564458689442,17.14037217473887,17.218217188984053,17.26935075973418,17.28451160968672,17.35975681386518,17.292802564102693,17.415246248812895,17.674071581196305,17.648137393162337,17.45001780626797,17.032358523266723,17.335453751187053,17.46953238366577,17.498858309591725,17.67212640075949,17.531446699905135,17.529943399810154,17.4407323599242,17.531972103513628,17.665183618233588,17.60234297245982,17.652286894587043,17.3925877730293,17.732781695156596,17.63577867996213,17.71726797245955,17.428404249762437,17.69505942545137,17.647516001899152,17.64743656220273,17.764566761633247,17.854721082620987,17.81035956790125,17.59050398860403,17.82219781576461,17.66152659069338,17.749479819563124,17.73079698480538,17.607762321937095,17.9344333570746,17.790526566951716,17.912139363722954,17.859298409306792,17.679402041785483,17.821102991452765,17.829925949667754,17.976885018992935,17.684173456790525,17.71472136752141,17.30505189933512,17.798230199430158,17.997430650522425,18.002708618233804,17.900933879392245,18.029934377967923,17.727212203229104,17.738177967711156,17.655022554605655,17.623809947768518,17.971467331433985,17.752271581196457,17.63904843304849,17.683528846153656,17.779190337131947,17.653380246913663,17.762622792022814,17.972550474833735,17.704323741690516,17.872018209876515,17.496270821462414,17.98838029439696,17.768577943969582,17.961801377017924,17.840025403608685,17.94437431149103,17.955699382715906,18.094130769230546,17.750914672364456,17.760221391263265,17.87824582146257,18.093332953466135,18.121301566951473,18.139926305793,18.43835826210822,18.111251756885068,18.01537882241198,17.942709829059634,18.34565358499536,18.328775546058846,17.91426255935398,18.23427376543202,18.68251429249763,18.484275522317304,18.383936514720133,18.456090384614946,18.664708262108096,18.478554131054022,18.494878133903,18.451510232668742,18.60447200854712,18.68694059829068,18.445346604938134,18.601106101614416,18.553508452041584,18.39331464862309,18.525968518518642,19.0610381136047]}],                        {\"showlegend\":false,\"template\":{\"data\":{\"bar\":[{\"error_x\":{\"color\":\"#2a3f5f\"},\"error_y\":{\"color\":\"#2a3f5f\"},\"marker\":{\"line\":{\"color\":\"#E5ECF6\",\"width\":0.5},\"pattern\":{\"fillmode\":\"overlay\",\"size\":10,\"solidity\":0.2}},\"type\":\"bar\"}],\"barpolar\":[{\"marker\":{\"line\":{\"color\":\"#E5ECF6\",\"width\":0.5},\"pattern\":{\"fillmode\":\"overlay\",\"size\":10,\"solidity\":0.2}},\"type\":\"barpolar\"}],\"carpet\":[{\"aaxis\":{\"endlinecolor\":\"#2a3f5f\",\"gridcolor\":\"white\",\"linecolor\":\"white\",\"minorgridcolor\":\"white\",\"startlinecolor\":\"#2a3f5f\"},\"baxis\":{\"endlinecolor\":\"#2a3f5f\",\"gridcolor\":\"white\",\"linecolor\":\"white\",\"minorgridcolor\":\"white\",\"startlinecolor\":\"#2a3f5f\"},\"type\":\"carpet\"}],\"choropleth\":[{\"colorbar\":{\"outlinewidth\":0,\"ticks\":\"\"},\"type\":\"choropleth\"}],\"contour\":[{\"colorbar\":{\"outlinewidth\":0,\"ticks\":\"\"},\"colorscale\":[[0.0,\"#0d0887\"],[0.1111111111111111,\"#46039f\"],[0.2222222222222222,\"#7201a8\"],[0.3333333333333333,\"#9c179e\"],[0.4444444444444444,\"#bd3786\"],[0.5555555555555556,\"#d8576b\"],[0.6666666666666666,\"#ed7953\"],[0.7777777777777778,\"#fb9f3a\"],[0.8888888888888888,\"#fdca26\"],[1.0,\"#f0f921\"]],\"type\":\"contour\"}],\"contourcarpet\":[{\"colorbar\":{\"outlinewidth\":0,\"ticks\":\"\"},\"type\":\"contourcarpet\"}],\"heatmap\":[{\"colorbar\":{\"outlinewidth\":0,\"ticks\":\"\"},\"colorscale\":[[0.0,\"#0d0887\"],[0.1111111111111111,\"#46039f\"],[0.2222222222222222,\"#7201a8\"],[0.3333333333333333,\"#9c179e\"],[0.4444444444444444,\"#bd3786\"],[0.5555555555555556,\"#d8576b\"],[0.6666666666666666,\"#ed7953\"],[0.7777777777777778,\"#fb9f3a\"],[0.8888888888888888,\"#fdca26\"],[1.0,\"#f0f921\"]],\"type\":\"heatmap\"}],\"heatmapgl\":[{\"colorbar\":{\"outlinewidth\":0,\"ticks\":\"\"},\"colorscale\":[[0.0,\"#0d0887\"],[0.1111111111111111,\"#46039f\"],[0.2222222222222222,\"#7201a8\"],[0.3333333333333333,\"#9c179e\"],[0.4444444444444444,\"#bd3786\"],[0.5555555555555556,\"#d8576b\"],[0.6666666666666666,\"#ed7953\"],[0.7777777777777778,\"#fb9f3a\"],[0.8888888888888888,\"#fdca26\"],[1.0,\"#f0f921\"]],\"type\":\"heatmapgl\"}],\"histogram\":[{\"marker\":{\"pattern\":{\"fillmode\":\"overlay\",\"size\":10,\"solidity\":0.2}},\"type\":\"histogram\"}],\"histogram2d\":[{\"colorbar\":{\"outlinewidth\":0,\"ticks\":\"\"},\"colorscale\":[[0.0,\"#0d0887\"],[0.1111111111111111,\"#46039f\"],[0.2222222222222222,\"#7201a8\"],[0.3333333333333333,\"#9c179e\"],[0.4444444444444444,\"#bd3786\"],[0.5555555555555556,\"#d8576b\"],[0.6666666666666666,\"#ed7953\"],[0.7777777777777778,\"#fb9f3a\"],[0.8888888888888888,\"#fdca26\"],[1.0,\"#f0f921\"]],\"type\":\"histogram2d\"}],\"histogram2dcontour\":[{\"colorbar\":{\"outlinewidth\":0,\"ticks\":\"\"},\"colorscale\":[[0.0,\"#0d0887\"],[0.1111111111111111,\"#46039f\"],[0.2222222222222222,\"#7201a8\"],[0.3333333333333333,\"#9c179e\"],[0.4444444444444444,\"#bd3786\"],[0.5555555555555556,\"#d8576b\"],[0.6666666666666666,\"#ed7953\"],[0.7777777777777778,\"#fb9f3a\"],[0.8888888888888888,\"#fdca26\"],[1.0,\"#f0f921\"]],\"type\":\"histogram2dcontour\"}],\"mesh3d\":[{\"colorbar\":{\"outlinewidth\":0,\"ticks\":\"\"},\"type\":\"mesh3d\"}],\"parcoords\":[{\"line\":{\"colorbar\":{\"outlinewidth\":0,\"ticks\":\"\"}},\"type\":\"parcoords\"}],\"pie\":[{\"automargin\":true,\"type\":\"pie\"}],\"scatter\":[{\"marker\":{\"colorbar\":{\"outlinewidth\":0,\"ticks\":\"\"}},\"type\":\"scatter\"}],\"scatter3d\":[{\"line\":{\"colorbar\":{\"outlinewidth\":0,\"ticks\":\"\"}},\"marker\":{\"colorbar\":{\"outlinewidth\":0,\"ticks\":\"\"}},\"type\":\"scatter3d\"}],\"scattercarpet\":[{\"marker\":{\"colorbar\":{\"outlinewidth\":0,\"ticks\":\"\"}},\"type\":\"scattercarpet\"}],\"scattergeo\":[{\"marker\":{\"colorbar\":{\"outlinewidth\":0,\"ticks\":\"\"}},\"type\":\"scattergeo\"}],\"scattergl\":[{\"marker\":{\"colorbar\":{\"outlinewidth\":0,\"ticks\":\"\"}},\"type\":\"scattergl\"}],\"scattermapbox\":[{\"marker\":{\"colorbar\":{\"outlinewidth\":0,\"ticks\":\"\"}},\"type\":\"scattermapbox\"}],\"scatterpolar\":[{\"marker\":{\"colorbar\":{\"outlinewidth\":0,\"ticks\":\"\"}},\"type\":\"scatterpolar\"}],\"scatterpolargl\":[{\"marker\":{\"colorbar\":{\"outlinewidth\":0,\"ticks\":\"\"}},\"type\":\"scatterpolargl\"}],\"scatterternary\":[{\"marker\":{\"colorbar\":{\"outlinewidth\":0,\"ticks\":\"\"}},\"type\":\"scatterternary\"}],\"surface\":[{\"colorbar\":{\"outlinewidth\":0,\"ticks\":\"\"},\"colorscale\":[[0.0,\"#0d0887\"],[0.1111111111111111,\"#46039f\"],[0.2222222222222222,\"#7201a8\"],[0.3333333333333333,\"#9c179e\"],[0.4444444444444444,\"#bd3786\"],[0.5555555555555556,\"#d8576b\"],[0.6666666666666666,\"#ed7953\"],[0.7777777777777778,\"#fb9f3a\"],[0.8888888888888888,\"#fdca26\"],[1.0,\"#f0f921\"]],\"type\":\"surface\"}],\"table\":[{\"cells\":{\"fill\":{\"color\":\"#EBF0F8\"},\"line\":{\"color\":\"white\"}},\"header\":{\"fill\":{\"color\":\"#C8D4E3\"},\"line\":{\"color\":\"white\"}},\"type\":\"table\"}]},\"layout\":{\"annotationdefaults\":{\"arrowcolor\":\"#2a3f5f\",\"arrowhead\":0,\"arrowwidth\":1},\"autotypenumbers\":\"strict\",\"coloraxis\":{\"colorbar\":{\"outlinewidth\":0,\"ticks\":\"\"}},\"colorscale\":{\"diverging\":[[0,\"#8e0152\"],[0.1,\"#c51b7d\"],[0.2,\"#de77ae\"],[0.3,\"#f1b6da\"],[0.4,\"#fde0ef\"],[0.5,\"#f7f7f7\"],[0.6,\"#e6f5d0\"],[0.7,\"#b8e186\"],[0.8,\"#7fbc41\"],[0.9,\"#4d9221\"],[1,\"#276419\"]],\"sequential\":[[0.0,\"#0d0887\"],[0.1111111111111111,\"#46039f\"],[0.2222222222222222,\"#7201a8\"],[0.3333333333333333,\"#9c179e\"],[0.4444444444444444,\"#bd3786\"],[0.5555555555555556,\"#d8576b\"],[0.6666666666666666,\"#ed7953\"],[0.7777777777777778,\"#fb9f3a\"],[0.8888888888888888,\"#fdca26\"],[1.0,\"#f0f921\"]],\"sequentialminus\":[[0.0,\"#0d0887\"],[0.1111111111111111,\"#46039f\"],[0.2222222222222222,\"#7201a8\"],[0.3333333333333333,\"#9c179e\"],[0.4444444444444444,\"#bd3786\"],[0.5555555555555556,\"#d8576b\"],[0.6666666666666666,\"#ed7953\"],[0.7777777777777778,\"#fb9f3a\"],[0.8888888888888888,\"#fdca26\"],[1.0,\"#f0f921\"]]},\"colorway\":[\"#636efa\",\"#EF553B\",\"#00cc96\",\"#ab63fa\",\"#FFA15A\",\"#19d3f3\",\"#FF6692\",\"#B6E880\",\"#FF97FF\",\"#FECB52\"],\"font\":{\"color\":\"#2a3f5f\"},\"geo\":{\"bgcolor\":\"white\",\"lakecolor\":\"white\",\"landcolor\":\"#E5ECF6\",\"showlakes\":true,\"showland\":true,\"subunitcolor\":\"white\"},\"hoverlabel\":{\"align\":\"left\"},\"hovermode\":\"closest\",\"mapbox\":{\"style\":\"light\"},\"paper_bgcolor\":\"white\",\"plot_bgcolor\":\"#E5ECF6\",\"polar\":{\"angularaxis\":{\"gridcolor\":\"white\",\"linecolor\":\"white\",\"ticks\":\"\"},\"bgcolor\":\"#E5ECF6\",\"radialaxis\":{\"gridcolor\":\"white\",\"linecolor\":\"white\",\"ticks\":\"\"}},\"scene\":{\"xaxis\":{\"backgroundcolor\":\"#E5ECF6\",\"gridcolor\":\"white\",\"gridwidth\":2,\"linecolor\":\"white\",\"showbackground\":true,\"ticks\":\"\",\"zerolinecolor\":\"white\"},\"yaxis\":{\"backgroundcolor\":\"#E5ECF6\",\"gridcolor\":\"white\",\"gridwidth\":2,\"linecolor\":\"white\",\"showbackground\":true,\"ticks\":\"\",\"zerolinecolor\":\"white\"},\"zaxis\":{\"backgroundcolor\":\"#E5ECF6\",\"gridcolor\":\"white\",\"gridwidth\":2,\"linecolor\":\"white\",\"showbackground\":true,\"ticks\":\"\",\"zerolinecolor\":\"white\"}},\"shapedefaults\":{\"line\":{\"color\":\"#2a3f5f\"}},\"ternary\":{\"aaxis\":{\"gridcolor\":\"white\",\"linecolor\":\"white\",\"ticks\":\"\"},\"baxis\":{\"gridcolor\":\"white\",\"linecolor\":\"white\",\"ticks\":\"\"},\"bgcolor\":\"#E5ECF6\",\"caxis\":{\"gridcolor\":\"white\",\"linecolor\":\"white\",\"ticks\":\"\"}},\"title\":{\"x\":0.05},\"xaxis\":{\"automargin\":true,\"gridcolor\":\"white\",\"linecolor\":\"white\",\"ticks\":\"\",\"title\":{\"standoff\":15},\"zerolinecolor\":\"white\",\"zerolinewidth\":2},\"yaxis\":{\"automargin\":true,\"gridcolor\":\"white\",\"linecolor\":\"white\",\"ticks\":\"\",\"title\":{\"standoff\":15},\"zerolinecolor\":\"white\",\"zerolinewidth\":2}}},\"title\":{\"text\":\"Mean land temperature in world\"},\"xaxis\":{\"title\":{\"text\":\"year\"}},\"yaxis\":{\"range\":[-10,30],\"title\":{\"text\":\"Mean Temperature, \\u00b0C\"}}},                        {\"responsive\": true}                    ).then(function(){\n",
       "                            \n",
       "var gd = document.getElementById('2394c453-4fd0-4c24-b281-ee0bc26933a3');\n",
       "var x = new MutationObserver(function (mutations, observer) {{\n",
       "        var display = window.getComputedStyle(gd).display;\n",
       "        if (!display || display === 'none') {{\n",
       "            console.log([gd, 'removed!']);\n",
       "            Plotly.purge(gd);\n",
       "            observer.disconnect();\n",
       "        }}\n",
       "}});\n",
       "\n",
       "// Listen for the removal of the full notebook cells\n",
       "var notebookContainer = gd.closest('#notebook-container');\n",
       "if (notebookContainer) {{\n",
       "    x.observe(notebookContainer, {childList: true});\n",
       "}}\n",
       "\n",
       "// Listen for the clearing of the current output cell\n",
       "var outputEl = gd.closest('.output');\n",
       "if (outputEl) {{\n",
       "    x.observe(outputEl, {childList: true});\n",
       "}}\n",
       "\n",
       "                        })                };                });            </script>        </div>"
      ]
     },
     "metadata": {},
     "output_type": "display_data"
    }
   ],
   "source": [
    "for year in years:\n",
    "    mean_temp_world.append(df[df['dt'] == year]['AverageTemperature'].mean())\n",
    "    mean_temp_world_uncertainty.append(df[df['dt'] == year]['AverageTemperatureUncertainty'].mean())\n",
    "    \n",
    "trace_0 = go.Scatter(x = years, y = np.array(mean_temp_world) + np.array(mean_temp_world_uncertainty),fill= None,mode='lines', name='Uncertainty top',line=dict(color='rgb(0, 220, 255)',))\n",
    "trace_1 = go.Scatter(x = years, y = np.array(mean_temp_world) - np.array(mean_temp_world_uncertainty),fill='tonexty',mode='lines',name='Uncertainty bot',line=dict(color='rgb(0, 220, 255)',))\n",
    "trace_2 = go.Scatter(x = years, y = mean_temp_world,name='Mean Temperature',line=dict(color='rgb(199, 121, 093)',))\n",
    "data = [trace_0, trace_1, trace_2]\n",
    "\n",
    "layout = go.Layout(xaxis=dict(title='year'),yaxis=dict(title='Mean Temperature, °C'),title='Mean land temperature in world',showlegend = False)\n",
    "\n",
    "fig = go.Figure(data=data, layout=layout)\n",
    "fig.update_layout(yaxis_range=[-10,30])\n",
    "py.iplot(fig)"
   ]
  },
  {
   "cell_type": "code",
   "execution_count": 40,
   "id": "a75bda34",
   "metadata": {
    "ExecuteTime": {
     "end_time": "2022-02-10T16:58:01.602623Z",
     "start_time": "2022-02-10T16:58:01.600854Z"
    }
   },
   "outputs": [],
   "source": [
    "#Look mean for specific years in the dataset\n",
    "selectedYears = np.array([1800,1900,1950,1980,2000,2013])\n",
    "mean_temp_world_selected = []\n",
    "mean_temp_world_uncertainty_selected = []"
   ]
  },
  {
   "cell_type": "code",
   "execution_count": 41,
   "id": "fc490c9c",
   "metadata": {
    "ExecuteTime": {
     "end_time": "2022-02-10T16:58:11.960155Z",
     "start_time": "2022-02-10T16:58:11.833977Z"
    }
   },
   "outputs": [],
   "source": [
    "for year in selectedYears:\n",
    "    mean_temp_world_selected.append(df[df['dt'] == year]['AverageTemperature'].mean())\n",
    "    mean_temp_world_uncertainty_selected.append(df[df['dt'] == year]['AverageTemperatureUncertainty'].mean())"
   ]
  },
  {
   "cell_type": "code",
   "execution_count": 42,
   "id": "5024007f",
   "metadata": {
    "ExecuteTime": {
     "end_time": "2022-02-10T16:58:13.250751Z",
     "start_time": "2022-02-10T16:58:13.232935Z"
    }
   },
   "outputs": [
    {
     "data": {
      "text/html": [
       "<div>\n",
       "<style scoped>\n",
       "    .dataframe tbody tr th:only-of-type {\n",
       "        vertical-align: middle;\n",
       "    }\n",
       "\n",
       "    .dataframe tbody tr th {\n",
       "        vertical-align: top;\n",
       "    }\n",
       "\n",
       "    .dataframe thead th {\n",
       "        text-align: right;\n",
       "    }\n",
       "</style>\n",
       "<table border=\"1\" class=\"dataframe\">\n",
       "  <thead>\n",
       "    <tr style=\"text-align: right;\">\n",
       "      <th></th>\n",
       "      <th>Years</th>\n",
       "      <th>Mean_Temp</th>\n",
       "      <th>Precision</th>\n",
       "    </tr>\n",
       "  </thead>\n",
       "  <tbody>\n",
       "    <tr>\n",
       "      <th>0</th>\n",
       "      <td>1800</td>\n",
       "      <td>15.26</td>\n",
       "      <td>2.52</td>\n",
       "    </tr>\n",
       "    <tr>\n",
       "      <th>1</th>\n",
       "      <td>1900</td>\n",
       "      <td>17.62</td>\n",
       "      <td>0.78</td>\n",
       "    </tr>\n",
       "    <tr>\n",
       "      <th>2</th>\n",
       "      <td>1950</td>\n",
       "      <td>17.68</td>\n",
       "      <td>0.41</td>\n",
       "    </tr>\n",
       "    <tr>\n",
       "      <th>3</th>\n",
       "      <td>1980</td>\n",
       "      <td>17.84</td>\n",
       "      <td>0.33</td>\n",
       "    </tr>\n",
       "    <tr>\n",
       "      <th>4</th>\n",
       "      <td>2000</td>\n",
       "      <td>18.38</td>\n",
       "      <td>0.34</td>\n",
       "    </tr>\n",
       "    <tr>\n",
       "      <th>5</th>\n",
       "      <td>2013</td>\n",
       "      <td>19.06</td>\n",
       "      <td>0.55</td>\n",
       "    </tr>\n",
       "  </tbody>\n",
       "</table>\n",
       "</div>"
      ],
      "text/plain": [
       "   Years  Mean_Temp  Precision\n",
       "0   1800      15.26       2.52\n",
       "1   1900      17.62       0.78\n",
       "2   1950      17.68       0.41\n",
       "3   1980      17.84       0.33\n",
       "4   2000      18.38       0.34\n",
       "5   2013      19.06       0.55"
      ]
     },
     "execution_count": 42,
     "metadata": {},
     "output_type": "execute_result"
    }
   ],
   "source": [
    "#Create dataframe with data\n",
    "mean_heart_temp = {'Years': selectedYears, 'Mean_Temp': mean_temp_world_selected, 'Precision': mean_temp_world_uncertainty_selected}\n",
    "df_mean_heart_temp = pd.DataFrame(data=mean_heart_temp)\n",
    "df_mean_heart_temp"
   ]
  },
  {
   "cell_type": "code",
   "execution_count": null,
   "id": "b6fd6b64",
   "metadata": {},
   "outputs": [],
   "source": []
  }
 ],
 "metadata": {
  "kernelspec": {
   "display_name": "Python 3",
   "language": "python",
   "name": "python3"
  },
  "language_info": {
   "codemirror_mode": {
    "name": "ipython",
    "version": 3
   },
   "file_extension": ".py",
   "mimetype": "text/x-python",
   "name": "python",
   "nbconvert_exporter": "python",
   "pygments_lexer": "ipython3",
   "version": "3.8.10"
  },
  "varInspector": {
   "cols": {
    "lenName": 16,
    "lenType": 16,
    "lenVar": 40
   },
   "kernels_config": {
    "python": {
     "delete_cmd_postfix": "",
     "delete_cmd_prefix": "del ",
     "library": "var_list.py",
     "varRefreshCmd": "print(var_dic_list())"
    },
    "r": {
     "delete_cmd_postfix": ") ",
     "delete_cmd_prefix": "rm(",
     "library": "var_list.r",
     "varRefreshCmd": "cat(var_dic_list()) "
    }
   },
   "types_to_exclude": [
    "module",
    "function",
    "builtin_function_or_method",
    "instance",
    "_Feature"
   ],
   "window_display": false
  }
 },
 "nbformat": 4,
 "nbformat_minor": 5
}
